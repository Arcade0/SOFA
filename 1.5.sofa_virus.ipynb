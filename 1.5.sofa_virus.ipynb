{
 "cells": [
  {
   "cell_type": "markdown",
   "metadata": {},
   "source": [
    "# 导入包"
   ]
  },
  {
   "cell_type": "code",
   "execution_count": 2,
   "metadata": {},
   "outputs": [],
   "source": [
    "import pandas as pd\n",
    "import numpy as np"
   ]
  },
  {
   "cell_type": "markdown",
   "metadata": {},
   "source": [
    "# 纳排标准：肺炎，＞18岁，1次ICU"
   ]
  },
  {
   "cell_type": "code",
   "execution_count": null,
   "metadata": {},
   "outputs": [],
   "source": [
    "# 病毒\n",
    "diagnoses = pd.read_csv(\"mimic-iv-2/hosp/diagnoses_icd.csv\", header=0)\n",
    "diagnoses_9e = diagnoses.loc[diagnoses[\"icd_code\"].str.match(\"48[0,7,8]\\d\"), :]\n",
    "print(diagnoses_9e.shape)\n",
    "diagnoses_10e = pd.concat((diagnoses.loc[diagnoses[\"icd_code\"].str.match(\"J1[0,1,2]\\d\"), :],\n",
    "                           diagnoses.loc[diagnoses[\"icd_code\"].str.match(\"J09\\d\"), :]),0) \n",
    "print(diagnoses_10e.shape)\n",
    "diagnoses_pn = pd.concat((diagnoses_9e, diagnoses_10e), 0)\n",
    "diagnoses_pn.to_csv(\"pn_virus/sofa_initial_diagnoses.csv\", header=True, index=True)\n"
   ]
  },
  {
   "cell_type": "code",
   "execution_count": 3,
   "metadata": {},
   "outputs": [
    {
     "name": "stdout",
     "output_type": "stream",
     "text": [
      "(2062, 5)\n"
     ]
    }
   ],
   "source": [
    "diagnoses_bact = pd.read_csv(\"pn_bact/sofa_initial_diagnoses.csv\")\n",
    "diagnoses_vpn = diagnoses_pn.loc[~diagnoses_pn[\"hadm_id\"].isin(set(diagnoses_bact[\"hadm_id\"])),:]\n",
    "diagnoses_vpn.to_csv(\"pn_virus/sofa_diagnoses.csv\", header=True, index=True)\n",
    "print(diagnoses_vpn.shape)"
   ]
  },
  {
   "cell_type": "code",
   "execution_count": 5,
   "metadata": {},
   "outputs": [],
   "source": [
    "# 获取肺炎患者的stay信息并去除一次入院多次入住ICU的\n",
    "patients = diagnoses_pn[[\"subject_id\", \"hadm_id\"]].drop_duplicates()\n",
    "icustay = pd.read_csv(\"mimic-iv-2/icu/icustays.csv\", header=0)\n",
    "patients_aicu = pd.merge(patients, icustay[[\"hadm_id\",\"stay_id\"]])\n",
    "aicu_hadm = patients_aicu[\"hadm_id\"].value_counts()[patients_aicu[\"hadm_id\"].value_counts()==1]\n",
    "patients_aicu =  patients_aicu.loc[patients_aicu[\"hadm_id\"].isin(aicu_hadm.index),:]\n",
    "patients_aicu.to_csv(\"pn_virus/patients_id.csv\")"
   ]
  },
  {
   "cell_type": "markdown",
   "metadata": {},
   "source": [
    "# 30天死亡分组"
   ]
  },
  {
   "cell_type": "code",
   "execution_count": 2,
   "metadata": {},
   "outputs": [],
   "source": [
    "patients_id = pd.read_csv(\"pn_virus/patients_id.csv\", header=0, index_col=0)\n",
    "admission = pd.read_csv(\"mimic-iv-2/hosp/admissions.csv\", header=0, index_col=0)\n",
    "patients_oc = pd.merge(patients_id, admission[[\"hadm_id\", \"deathtime\"]])"
   ]
  },
  {
   "cell_type": "code",
   "execution_count": 11,
   "metadata": {},
   "outputs": [],
   "source": [
    "# icu stay\n",
    "icustay = pd.read_csv(\"mimic-iv-2/icu/icustays.csv\", header=0, index_col=0)\n",
    "patients_icu_oc = pd.merge(patients_oc, icustay[[\"stay_id\",\"intime\"]])\n",
    "\n",
    "# 计算入住ICU时间和死亡时间差\n",
    "from datetime import datetime\n",
    "death_days = []\n",
    "for i in patients_icu_oc.index:\n",
    "    if str(patients_icu_oc.loc[i,\"deathtime\"]) != \"nan\":\n",
    "        death_day = (datetime.strptime(patients_icu_oc.loc[i,\"deathtime\"], \"%Y-%m-%d %H:%M:%S\") - \n",
    "                     datetime.strptime(patients_icu_oc.loc[i,\"intime\"], \"%Y-%m-%d %H:%M:%S\")).days\n",
    "        death_days.append(death_day)\n",
    "    else:\n",
    "        death_days.append(31)\n",
    "patients_icu_oc[\"death_day\"] = death_days"
   ]
  },
  {
   "cell_type": "code",
   "execution_count": 14,
   "metadata": {},
   "outputs": [],
   "source": [
    "# 分别保存30天内死亡患者\n",
    "patients_icu_oc[\"30day_death\"] = 0\n",
    "patients_icu_oc.loc[patients_icu_oc[\"death_day\"]<=30, \"30day_death\"] = 1\n",
    "patients_icu_oc.loc[patients_icu_oc[\"death_day\"]>30, \"30day_death\"] = 0\n",
    "patients_icu_oc.loc[patients_icu_oc[\"death_day\"]>30, \"death_day\"] = 31\n",
    "\n",
    "patients_death = patients_icu_oc.loc[patients_icu_oc[\"30day_death\"]==1,:]\n",
    "patients_survival = patients_icu_oc.loc[patients_icu_oc[\"30day_death\"]==0,:]\n",
    "\n",
    "patients_death.to_csv(\"pn_virus/patients_death.csv\")\n",
    "patients_survival.to_csv(\"pn_virus/patients_survival.csv\")\n",
    "patients_icu_oc.to_csv(\"pn_virus/patients_oc.csv\")"
   ]
  }
 ],
 "metadata": {
  "kernelspec": {
   "display_name": "Python 3.9.12 ('base': conda)",
   "language": "python",
   "name": "python3"
  },
  "language_info": {
   "codemirror_mode": {
    "name": "ipython",
    "version": 3
   },
   "file_extension": ".py",
   "mimetype": "text/x-python",
   "name": "python",
   "nbconvert_exporter": "python",
   "pygments_lexer": "ipython3",
   "version": "3.9.12"
  },
  "orig_nbformat": 4,
  "vscode": {
   "interpreter": {
    "hash": "bd5a5980a31967086eaababc5338e6a92d5792ba40cc4c910227acd610a4f48f"
   }
  }
 },
 "nbformat": 4,
 "nbformat_minor": 2
}
