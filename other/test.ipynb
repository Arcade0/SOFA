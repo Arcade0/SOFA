{
 "cells": [
  {
   "cell_type": "code",
   "execution_count": 1,
   "metadata": {},
   "outputs": [],
   "source": [
    "import pandas as pd \n",
    "import numpy as np"
   ]
  },
  {
   "cell_type": "code",
   "execution_count": 38,
   "metadata": {},
   "outputs": [
    {
     "name": "stdout",
     "output_type": "stream",
     "text": [
      "(851, 5)\n",
      "(464, 5)\n"
     ]
    },
    {
     "name": "stderr",
     "output_type": "stream",
     "text": [
      "/tmp/ipykernel_3919697/379714098.py:7: FutureWarning: In a future version of pandas all arguments of concat except for the argument 'objs' will be keyword-only.\n",
      "  diagnoses_vpn = pd.concat((diagnoses_9e, diagnoses_10e), 0)\n"
     ]
    }
   ],
   "source": [
    "# 流感病毒\n",
    "diagnoses = pd.read_csv(\"mimic-iv-2/hosp/diagnoses_icd.csv\", header=0)\n",
    "diagnoses_9e = diagnoses.loc[diagnoses[\"icd_code\"].str.match(\"487\\d\"), :]\n",
    "print(diagnoses_9e.shape)\n",
    "diagnoses_10e = diagnoses.loc[diagnoses[\"icd_code\"].str.match(\"J10\\d\"), :]\n",
    "print(diagnoses_10e.shape)\n",
    "diagnoses_vpn = pd.concat((diagnoses_9e, diagnoses_10e), 0)\n",
    "diagnoses_vpn.to_csv(\"influ_sofa/diagnoses_flu.csv\", header=True, index=True)"
   ]
  },
  {
   "cell_type": "code",
   "execution_count": null,
   "metadata": {},
   "outputs": [],
   "source": [
    "# 肺炎链球菌\n",
    "diagnoses = pd.read_csv(\"mimic-iv-2/hosp/diagnoses_icd.csv\", header=0)\n",
    "diagnoses_9e = diagnoses.loc[diagnoses[\"icd_code\"].str.match(\"4823\"), :]\n",
    "print(diagnoses_9e.shape)\n",
    "diagnoses_10e = diagnoses.loc[diagnoses[\"icd_code\"].str.match(\"J15[3,4]\"), :]\n",
    "print(diagnoses_10e.shape)\n",
    "diagnoses_pn = pd.concat((diagnoses_9e, diagnoses_10e), 0)\n",
    "diagnoses_9e9 = diagnoses.loc[diagnoses[\"icd_code\"].str.match(\"4829\"), :]\n",
    "diag_culture = pd.merge(diagnoses_9e9,culture)\n",
    "alist =[i for i in set(diag_culture[\"org_name\"].dropna()) if \"STREP\" in i]\n",
    "diag_strep = diag_culture.loc[diag_culture[\"org_name\"].isin(alist),:]\n",
    "diagnoses_pn = pd.concat((diagnoses_pn, diag_strep[diagnoses_pn.columns]), 0)\n",
    "diagnoses_pn.to_csv(\"stre_sofa/diagnoses_strep.csv\", header=True, index=True)\n"
   ]
  },
  {
   "cell_type": "markdown",
   "metadata": {},
   "source": [
    "# 共同需要的"
   ]
  },
  {
   "cell_type": "code",
   "execution_count": 31,
   "metadata": {},
   "outputs": [],
   "source": [
    "icu_stay = pd.read_csv(\"mimic-iv-2/icu/icustays.csv\",header=0,)"
   ]
  },
  {
   "cell_type": "code",
   "execution_count": 42,
   "metadata": {},
   "outputs": [],
   "source": [
    "patients_id = pd.merge(diagnoses_pn, icu_stay).drop_duplicates()\n",
    "patients_vid = pd.merge(diagnoses_vpn, icu_stay).drop_duplicates()"
   ]
  },
  {
   "cell_type": "code",
   "execution_count": 44,
   "metadata": {},
   "outputs": [
    {
     "name": "stderr",
     "output_type": "stream",
     "text": [
      "/tmp/ipykernel_3919697/156942697.py:4: DtypeWarning: Columns (8) have mixed types. Specify dtype option on import or set low_memory=False.\n",
      "  df = pd.read_csv(\"sofa_data/%s\" % file, header=0)\n"
     ]
    }
   ],
   "source": [
    "import os\n",
    "files = os.listdir(\"sofa_data\")\n",
    "for file in files:\n",
    "    df = pd.read_csv(\"sofa_data/%s\" % file, header=0)\n",
    "    pdfb = pd.merge(patients_id,df)\n",
    "    pdfb.to_csv(\"stre_sofa/%s\" % file)\n",
    "    pdfv = pd.merge(patients_vid,df)\n",
    "    pdfv.to_csv(\"influ_sofa/%s\" % file)"
   ]
  },
  {
   "cell_type": "code",
   "execution_count": 20,
   "metadata": {},
   "outputs": [],
   "source": [
    "import pandas as pd\n",
    "import numpy as np\n",
    "sofa = pd.read_csv(\"stre_sofa/sofa.csv\", index_col=0)\n"
   ]
  },
  {
   "cell_type": "code",
   "execution_count": null,
   "metadata": {},
   "outputs": [],
   "source": [
    "for sd in set(sofa[\"stay_id\"]):\n",
    "    apsofa = sofa.loc[sofa[\"stay_id\"] == sd]\n",
    "    for i in range(1, apsofa.shape[0]):\n",
    "        for j in ['respiration','coagulation', 'liver', 'cardiovascular', 'cns', 'renal']:\n",
    "            if np.isnan(apsofa[j].iloc[i]) == True:\n",
    "                if apsofa[j+\"_24hours\"].iloc[i]==0:\n",
    "                    apsofa[j+\"_24hours\"].iloc[i] = apsofa[j+\"_24hours\"].iloc[i-1]\n",
    "                    sofa.loc[apsofa.index[i], j+\"_24hours\"] = apsofa.loc[apsofa.index[i], j+\"_24hours\"]\n",
    "                    if sofa.loc[apsofa.index[i], j+\"_24hours\"] != 0:\n",
    "                        print(apsofa.index[i], sofa.loc[apsofa.index[i], j+\"_24hours\"])\n"
   ]
  }
 ],
 "metadata": {
  "kernelspec": {
   "display_name": "Python 3.9.12 ('base': conda)",
   "language": "python",
   "name": "python3"
  },
  "language_info": {
   "codemirror_mode": {
    "name": "ipython",
    "version": 3
   },
   "file_extension": ".py",
   "mimetype": "text/x-python",
   "name": "python",
   "nbconvert_exporter": "python",
   "pygments_lexer": "ipython3",
   "version": "3.9.12"
  },
  "orig_nbformat": 4,
  "vscode": {
   "interpreter": {
    "hash": "bd5a5980a31967086eaababc5338e6a92d5792ba40cc4c910227acd610a4f48f"
   }
  }
 },
 "nbformat": 4,
 "nbformat_minor": 2
}
