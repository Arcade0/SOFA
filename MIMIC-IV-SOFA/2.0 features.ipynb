{
 "cells": [
  {
   "cell_type": "code",
   "execution_count": 2,
   "metadata": {},
   "outputs": [],
   "source": [
    "import pandas as pd\n",
    "from copy import deepcopy\n",
    "\n",
    "patients_pn = pd.read_csv(\"pneumonia/patients_pn.csv\", index_col=0)\n",
    "patients_admission = pd.read_csv(\n",
    "    \"pneumonia/outcome_admission.csv\", index_col=0)"
   ]
  },
  {
   "attachments": {},
   "cell_type": "markdown",
   "metadata": {},
   "source": [
    "### 基本信息\n"
   ]
  },
  {
   "cell_type": "code",
   "execution_count": 9,
   "metadata": {},
   "outputs": [],
   "source": [
    "patients = pd.read_csv(\"mimic-iv-2/hosp/patients.csv\")\n",
    "patients_demo = pd.merge(\n",
    "    patients_admission[[\"subject_id\", \"hadm_id\", \"admittime\"]], patients)\n",
    "\n",
    "patients_demo['adm_year'] = pd.to_datetime(patients_demo['admittime']).dt.year\n",
    "patients_demo[\"adm_age\"] = patients_demo[\"adm_year\"] - \\\n",
    "    (patients_demo[\"anchor_year\"] - patients_demo[\"anchor_age\"])\n",
    "\n",
    "patients_demo.loc[patients_demo[\"gender\"] == \"M\", \"gender\"] = 1\n",
    "patients_demo.loc[patients_demo[\"gender\"] == \"F\", \"gender\"] = 0\n",
    "\n",
    "patients_demo[[\"subject_id\", \"hadm_id\", 'gender', 'adm_age']\n",
    "              ].drop_duplicates().to_csv(\"pneumonia/feature_demo.csv\")"
   ]
  },
  {
   "attachments": {},
   "cell_type": "markdown",
   "metadata": {},
   "source": [
    "### 既往史\n"
   ]
  },
  {
   "cell_type": "code",
   "execution_count": 15,
   "metadata": {},
   "outputs": [],
   "source": [
    "diagnoses = pd.read_csv(\"mimic-iv-2/hosp/diagnoses_icd.csv\", header=0)\n",
    "full_diag = diagnoses.loc[diagnoses[\"hadm_id\"].isin(\n",
    "    patients_admission[\"hadm_id\"])].reset_index(drop=True)\n",
    "combids = {\n",
    "    \"Congestive heart failure\": \"428\\d|I50\\d\",\n",
    "    \"Cardiacarrhythmias\": \"427\\d|I5[4-9]\\d\",\n",
    "    \"Coronary artery atherosclerosis\": \"414\\d|I25\\d\",\n",
    "    \"Pulmonarycirculation\": \"41[5-7]\\d|I2[6-8]\\d\",\n",
    "    \"Hypertention\": \"40\\d|I1\\d\",\n",
    "    \"Chronicpulmonary\": \"49\\d|J4[0-7]\\d\",\n",
    "    \"Heptic disease\": \"57[1-3]\\d|K7[0-6]\\d\",\n",
    "    \"Renal diseases\": \"58[2-6]\\d|593\\d|N0\\d|N1[7-9]\\d\",\n",
    "    \"Blood abnormal\": \"286\\d|D6[5-8]\\d\",\n",
    "    \"Diabetes\": \"250\\d|E1[0-4]\\d\",\n",
    "    \"Neuro\": \"780\\d|R40\\d\",\n",
    "    \"Immunity suppression\": \"279\\d|D80\\d|279\\d|D84\\d|042\\d|B20\\d\",\n",
    "    # \"Sepsis\":\"995\\d|038\\d|A4[0-1]\\d|R65\",\n",
    "}\n",
    "\n",
    "for coms, icd in combids.items():\n",
    "    full_diag[coms] = 0\n",
    "    full_diag.loc[full_diag[\"icd_code\"].str.match(icd), coms] = 1\n",
    "\n",
    "full_diag = full_diag.drop([\"seq_num\", \"icd_code\", \"icd_version\"], axis=1).groupby(\n",
    "    ['hadm_id']).max().reset_index()\n",
    "full_diag.drop_duplicates().to_csv(\"pneumonia/feature_history.csv\")\n",
    "# import matplotlib.pyplot as plt\n",
    "# plt.figure(figsize=(10, 6))\n",
    "# plt.bar(combids.keys(), full_diag[combids.keys()].mean())\n",
    "# plt.xlabel('Categories')\n",
    "# plt.ylabel('Probabilities')\n",
    "# plt.title('Probabilities of Medical Categories')\n",
    "# plt.xticks(rotation=45)\n",
    "# plt.tight_layout()\n",
    "# plt.show()"
   ]
  },
  {
   "attachments": {},
   "cell_type": "markdown",
   "metadata": {},
   "source": [
    "### 体格检查\n"
   ]
  },
  {
   "cell_type": "code",
   "execution_count": 27,
   "metadata": {},
   "outputs": [],
   "source": [
    "weight = pd.read_csv(\"concepts/firstday_lab/first_day_weight.csv\")\n",
    "urine = pd.read_csv(\"concepts/firstday_lab/first_day_urine_output.csv\")\n",
    "vitalsign = pd.read_csv(\"concepts/firstday_lab/first_day_vitalsign.csv\")\n",
    "\n",
    "phyexam = pd.merge(patients_admission[[\"subject_id\", \"hadm_id\"]], weight)\n",
    "phyexam = pd.merge(phyexam, urine)\n",
    "phyexam = pd.merge(phyexam, vitalsign)\n",
    "phyexam.drop_duplicates().to_csv(\"outcome_vitalsign_icu.csv\")"
   ]
  },
  {
   "attachments": {},
   "cell_type": "markdown",
   "metadata": {},
   "source": [
    "### 实验室指标\n"
   ]
  },
  {
   "cell_type": "code",
   "execution_count": 2,
   "metadata": {},
   "outputs": [],
   "source": [
    "import os\n",
    "from copy import deepcopy\n",
    "lab_dfs = []\n",
    "\n",
    "# 将event按小时和时间分类\n",
    "input_dir = \"concepts/measurement/\"\n",
    "for i in os.listdir(input_dir):\n",
    "    mear = pd.read_csv(\"concepts/measurement/%s\" % i)\n",
    "    lab_dfs.append(mear)\n",
    "lab_df = pd.concat(lab_dfs, axis=0, ignore_index=True)\n",
    "lab_df = pd.merge(patients_admission, lab_df)\n",
    "lab_df['admittime'] = pd.to_datetime(lab_df['admittime'])\n",
    "lab_df['charttime'] = pd.to_datetime(\n",
    "    lab_df['charttime'], format=\"%d/%m/%Y %H:%M:%S\")\n",
    "lab_df[\"lab_hour\"] = (lab_df[\"charttime\"] - lab_df[\"admittime\"])\n",
    "lab_df[\"lab_day\"] = (lab_df[\"charttime\"] - lab_df[\"admittime\"]).dt.days\n",
    "\n",
    "# 筛选3天内的实验室检查\n",
    "labs = lab_df.loc[(lab_df[\"lab_day\"] <= 3) & (lab_df[\"lab_day\"] >= -3)]\n",
    "lab_columns = ['troponin_t', 'ck_mb', 'ntprobnp', 'albumin',\n",
    "               'globulin', 'total_protein', 'aniongap', 'bicarbonate', 'bun',\n",
    "               'calcium', 'chloride', 'creatinine', 'glucose', 'sodium', 'potassium',\n",
    "               'so2', 'po2', 'pco2', 'fio2_chartevents', 'fio2', 'aado2', 'aado2_calc',\n",
    "               'pao2fio2ratio', 'ph', 'baseexcess', 'totalco2', 'hematocrit',\n",
    "               'hemoglobin', 'carboxyhemoglobin', 'methemoglobin', 'temperature',\n",
    "               'lactate', 'crp', 'wbc', 'basophils_abs', 'eosinophils_abs',\n",
    "               'lymphocytes_abs', 'monocytes_abs', 'neutrophils_abs', 'basophils',\n",
    "               'eosinophils', 'lymphocytes', 'monocytes', 'neutrophils',\n",
    "               'atypical_lymphocytes', 'bands', 'immature_granulocytes',\n",
    "               'metamyelocytes', 'nrbc', 'mch', 'mchc', 'mcv', 'platelet', 'rbc',\n",
    "               'rdw', 'rdwsd', 'd_dimer', 'fibrinogen', 'thrombin', 'inr', 'pt', 'ptt',\n",
    "               'alt', 'alp', 'ast', 'amylase', 'bilirubin_total', 'bilirubin_direct',\n",
    "               'bilirubin_indirect', 'ck_cpk', 'ggt', 'ld_ldh']\n",
    "\n",
    "# 按hadm_id和时间排序数据\n",
    "labs.sort_values(by=['subject_id', 'hadm_id',\n",
    "                 'lab_day', 'lab_hour'], inplace=True)\n",
    "\n",
    "# 针对每个实验室指标列，进行前向填充\n",
    "for i in set(labs[\"hadm_id\"]):\n",
    "    labs.loc[labs[\"hadm_id\"] == i,\n",
    "             lab_columns] = labs.loc[labs[\"hadm_id\"] == i, lab_columns].ffill()\n",
    "labs0 = labs.drop(['admittime', 'dischtime', 'charttime', 'specimen_id', 'specimen'],\n",
    "                  axis=1).groupby(['subject_id', 'hadm_id']).first().reset_index()\n",
    "\n",
    "labs0.drop_duplicates().to_csv(\"pneumonia/feature_labs.csv\")"
   ]
  },
  {
   "attachments": {},
   "cell_type": "markdown",
   "metadata": {},
   "source": [
    "### 影像学\n"
   ]
  },
  {
   "cell_type": "code",
   "execution_count": 71,
   "metadata": {},
   "outputs": [],
   "source": [
    "cxr_time = pd.read_csv(\n",
    "    \"../MIMIC-IV-CXR/mimic-iv-cxr-2/mimic-cxr-2.0.0-metadata.csv\")\n",
    "cxr_time = cxr_time[[\"subject_id\", \"study_id\", \"StudyDate\"]].drop_duplicates()\n",
    "cxr_che = pd.read_csv(\n",
    "    \"../MIMIC-IV-CXR/mimic-iv-cxr-2/mimic-cxr-2.0.0-chexpert.csv\")\n",
    "cxr_data = pd.merge(cxr_time, cxr_che)\n",
    "\n",
    "cxr_df = pd.merge(\n",
    "    patients_admission[[\"subject_id\", \"hadm_id\", \"admittime\"]], cxr_data)\n",
    "cxr_df['admittime'] = pd.to_datetime(cxr_df['admittime'])\n",
    "cxr_df['StudyDate'] = pd.to_datetime(cxr_df['StudyDate'], format=\"%Y%m%d\")\n",
    "cxr_df[\"cxr_day\"] = (cxr_df[\"StudyDate\"] - cxr_df[\"admittime\"]).dt.days\n",
    "\n",
    "cxr_df = cxr_df.drop(\n",
    "    ['subject_id', 'admittime', 'study_id', 'StudyDate'], axis=1)\n",
    "cxr_df = cxr_df.groupby(['hadm_id', 'cxr_day']).mean().reset_index()\n",
    "cxr_df = cxr_df.loc[(cxr_df[\"cxr_day\"] <= 3) & (cxr_df[\"cxr_day\"] >= -3)]\n",
    "cxr_df = cxr_df.fillna(0)\n",
    "cxr_df = cxr_df.sort_values(['hadm_id', 'cxr_day'])\n",
    "# 根据 hadm_id 分组并保留 lab_day 最小的行\n",
    "cxr_df = cxr_df.groupby('hadm_id').first().reset_index()\n",
    "cxr_df.drop_duplicates().to_csv(\"pneumonia/feature_cxr.csv\")"
   ]
  },
  {
   "attachments": {},
   "cell_type": "markdown",
   "metadata": {},
   "source": [
    "### 感染类型\n"
   ]
  },
  {
   "cell_type": "code",
   "execution_count": 25,
   "metadata": {},
   "outputs": [],
   "source": [
    "bact_tyep = {\"MRSA\": ['Methicillin resistant pneumonia due to Staphylococcus aureus', 'Pneumonia due to Methicillin resistant Staphylococcus aureus'],\n",
    "             \"MSSA\": ['Methicillin susceptible pneumonia due to Staphylococcus aureus', 'Pneumonia due to Methicillin susceptible Staphylococcus aureus'],\n",
    "             \"Staphylococcus\": ['Pneumonia due to Staphylococcus, unspecified', 'Pneumonia due to other staphylococcus', 'Pneumonia due to staphylococcus, unspecified', 'Other Staphylococcus pneumonia'],\n",
    "             \"Streptococcus\": ['Pneumonia due to Streptococcus, group A', 'Pneumonia due to Streptococcus, group B', 'Pneumonia due to streptococcus, group B', 'Pneumonia due to Streptococcus, unspecified', 'Pneumonia due to other Streptococcus', 'Pneumonia due to other streptococci'],\n",
    "             \"Escherichia coli\": ['Pneumonia due to Escherichia coli', 'Pneumonia due to escherichia coli [E. coli]'],\n",
    "             \"Hemophilus influenzae\": ['Pneumonia due to Hemophilus influenzae [H. influenzae]'],\n",
    "             \"Klebsiella pneumoniae\": ['Pneumonia due to Klebsiella pneumoniae'],\n",
    "             \"Legionnaires\": [\"Pneumonia due to Legionnaires' disease\"],\n",
    "             \"Pseudomonas\": ['Pneumonia due to Pseudomonas'],\n",
    "             \"anaerobes\": ['Pneumonia due to anaerobes'],\n",
    "             \"Mycoplasma\": ['Pneumonia due to Mycoplasma pneumoniae', 'Pneumonia due to mycoplasma pneumoniae'],\n",
    "             \"other G-\": ['Pneumonia due to other Gram-negative bacteria', 'Pneumonia due to other gram-negative bacteria'],\n",
    "             \"unspecified BACT\": ['Bacterial pneumonia, unspecified', 'Pneumonia due to other specified bacteria', 'Pneumonia due to other specified organism', 'Unspecified bacterial pneumonia']}\n",
    "virus_type = {\"Adenoviral\": ['Adenoviral pneumonia', 'Pneumonia due to adenovirus'], \"metapneumovirus\": ['Human metapneumovirus pneumonia'],\n",
    "              \"Parainfluenza\": ['Parainfluenza virus pneumonia', 'Pneumonia due to parainfluenza virus'],\n",
    "              \"syncytial\": ['Pneumonia due to respiratory syncytial virus', 'Respiratory syncytial virus pneumonia'],\n",
    "              \"H1N1\": ['Influenza due to identified 2009 H1N1 influenza virus with pneumonia', 'Influenza due to identified novel H1N1 influenza virus'],\n",
    "              \"avian\": ['Influenza due to identified avian influenza virus', 'Influenza due to identified avian influenza virus with other manifestations', 'Influenza due to identified avian influenza virus with other respiratory manifestations', 'Influenza due to identified avian influenza virus with pneumonia'],\n",
    "              \"influenza A\": ['Influenza due to identified novel influenza A virus with other manifestations', 'Influenza due to identified novel influenza A virus with other respiratory manifestations', 'Influenza due to identified novel influenza A virus with pneumonia'],\n",
    "              \"other influenz\": ['Influenza due to other identified influenza virus with encephalopathy', 'Influenza due to other identified influenza virus with gastrointestinal manifestations', 'Influenza due to other identified influenza virus with other manifestations', 'Influenza due to other identified influenza virus with other respiratory manifestations', 'Influenza due to other identified influenza virus with other specified pneumonia', 'Influenza due to other identified influenza virus with the same other identified influenza virus pneumonia', 'Influenza due to other identified influenza virus with unspecified type of pneumonia', 'Influenza due to unidentified influenza virus with encephalopathy', 'Influenza due to unidentified influenza virus with gastrointestinal manifestations', 'Influenza due to unidentified influenza virus with other manifestations', 'Influenza due to unidentified influenza virus with other respiratory manifestations', 'Influenza due to unidentified influenza virus with specified pneumonia', 'Influenza due to unidentified influenza virus with unspecified type of pneumonia', 'Influenza with other manifestations', 'Influenza with other respiratory manifestations', 'Influenza with pneumonia'],\n",
    "              \"other virus\": ['Other viral pneumonia', 'Viral pneumonia, unspecified', 'Pneumonia due to other virus not elsewhere classified']}"
   ]
  },
  {
   "cell_type": "code",
   "execution_count": null,
   "metadata": {},
   "outputs": [],
   "source": [
    "diagnoses_pn = pd.read_csv(\"pneumonia/diagnoses_pn.csv\", index_col=0)\n",
    "for i in diagnoses_pn.index:\n",
    "    for jk, jv in bact_type.items():\n",
    "        if diagnoses_pn.loc[i, \"long_title\"] in jv:\n",
    "            diagnoses_pn.loc[i, \"long_title\"] = jk\n",
    "    for jk, jv in virus_type.items():\n",
    "        if diagnoses_pn.loc[i, \"long_title\"] in jv:\n",
    "            diagnoses_pn.loc[i, \"long_title\"] = jk\n",
    "for coms in set(diagnoses_pn[\"long_title\"]):\n",
    "    diagnoses_pn[coms] = 0\n",
    "    diagnoses_pn.loc[diagnoses_pn[\"long_title\"] == coms, coms] = 1\n",
    "diagnoses_pn = diagnoses_pn.drop([\"seq_num\", \"icd_code\", \"icd_version\", \"mixed_infection\",\n",
    "                                 \"long_title\"], axis=1).groupby(['hadm_id']).max().reset_index()\n",
    "diagnoses_pn.drop_duplicates().to_csv(\"pneumonia/feature_infectiontype.csv\")"
   ]
  },
  {
   "attachments": {},
   "cell_type": "markdown",
   "metadata": {},
   "source": [
    "### SOFA\n"
   ]
  },
  {
   "cell_type": "code",
   "execution_count": 8,
   "metadata": {},
   "outputs": [],
   "source": [
    "sofa = pd.read_csv(\"concepts/sepsis/sofa.csv\")\n",
    "admission_icu = pd.read_csv(\"pneumonia/outcome_admission_icu.csv\", index_col=0)\n",
    "sofa = pd.merge(admission_icu[[\"subject_id\", \"hadm_id\", \"stay_id\"]], sofa)"
   ]
  }
 ],
 "metadata": {
  "kernelspec": {
   "display_name": "base",
   "language": "python",
   "name": "python3"
  },
  "language_info": {
   "codemirror_mode": {
    "name": "ipython",
    "version": 3
   },
   "file_extension": ".py",
   "mimetype": "text/x-python",
   "name": "python",
   "nbconvert_exporter": "python",
   "pygments_lexer": "ipython3",
   "version": "3.9.12"
  },
  "orig_nbformat": 4
 },
 "nbformat": 4,
 "nbformat_minor": 2
}
