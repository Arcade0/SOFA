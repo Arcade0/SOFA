{
 "cells": [
  {
   "attachments": {},
   "cell_type": "markdown",
   "metadata": {},
   "source": [
    "### 入排标准确定患者"
   ]
  },
  {
   "cell_type": "code",
   "execution_count": 1,
   "metadata": {},
   "outputs": [
    {
     "name": "stderr",
     "output_type": "stream",
     "text": [
      "/tmp/ipykernel_1846143/429325705.py:5: SettingWithCopyWarning: \n",
      "A value is trying to be set on a copy of a slice from a DataFrame.\n",
      "Try using .loc[row_indexer,col_indexer] = value instead\n",
      "\n",
      "See the caveats in the documentation: https://pandas.pydata.org/pandas-docs/stable/user_guide/indexing.html#returning-a-view-versus-a-copy\n",
      "  diagnoses_bpn[\"infection_type\"] = 'BACT'\n",
      "/tmp/ipykernel_1846143/429325705.py:7: SettingWithCopyWarning: \n",
      "A value is trying to be set on a copy of a slice from a DataFrame.\n",
      "Try using .loc[row_indexer,col_indexer] = value instead\n",
      "\n",
      "See the caveats in the documentation: https://pandas.pydata.org/pandas-docs/stable/user_guide/indexing.html#returning-a-view-versus-a-copy\n",
      "  diagnoses_vpn[\"infection_type\"] = 'VIRUS'\n"
     ]
    }
   ],
   "source": [
    "import pandas as pd\n",
    "diagnoses = pd.read_csv(\"mimic-iv-2/hosp/diagnoses_icd.csv\", header=0)\n",
    "### 获取诊断为肺炎的患者\n",
    "diagnoses_bpn = diagnoses.loc[diagnoses[\"icd_code\"].str.match(\"48[1,2,3]\\d|J1[3,4,5]\\d\"),:]\n",
    "diagnoses_bpn[\"infection_type\"] = 'BACT'\n",
    "diagnoses_vpn = diagnoses.loc[diagnoses[\"icd_code\"].str.match(\"48[0,7,8]\\d|J1[0,1,2]\\d|J09\\d\"),:]\n",
    "diagnoses_vpn[\"infection_type\"] = 'VIRUS'\n",
    "diagnoses_pn = pd.concat([diagnoses_bpn,diagnoses_vpn],axis=0)\n",
    "\n",
    "### 区分混合感染\n",
    "diagnoses_pn[\"mixed_infection\"] = diagnoses_pn[\"infection_type\"]\n",
    "for i in diagnoses_pn[\"hadm_id\"]:\n",
    "    if diagnoses_pn.loc[diagnoses_pn[\"hadm_id\"]==i, \"infection_type\"].shape[0]>1:\n",
    "        if diagnoses_pn.loc[diagnoses_pn[\"hadm_id\"]==i, \"infection_type\"].drop_duplicates().shape[0]>1:\n",
    "            diagnoses_pn.loc[diagnoses_pn[\"hadm_id\"]==i, \"mixed_infection\"] = \"MIXED_BV\"\n",
    "        else:\n",
    "            diagnoses_pn.loc[diagnoses_pn[\"hadm_id\"]==i, \"mixed_infection\"] = \"MIXED_%s\" % diagnoses_pn.loc[diagnoses_pn[\"hadm_id\"]==i, \"infection_type\"].iloc[0]\n",
    "diagnoses_pn = diagnoses_pn.drop(\"infection_type\", axis=1)"
   ]
  },
  {
   "attachments": {},
   "cell_type": "markdown",
   "metadata": {},
   "source": [
    "### 结局-入住ICU"
   ]
  },
  {
   "cell_type": "code",
   "execution_count": 4,
   "metadata": {},
   "outputs": [],
   "source": [
    "### 获取入院和入住ICU信息\n",
    "hosp_adm = pd.read_csv(\"mimic-iv-2/hosp/admissions.csv\")\n",
    "icu_adm = pd.read_csv(\"mimic-iv-2/icu/icustays.csv\")\n",
    "hosp_icu= pd.merge(hosp_adm[[\"subject_id\",\"hadm_id\",\"admittime\",\"dischtime\",\"deathtime\"]], icu_adm, how=\"left\")\n",
    "hosp_icu[\"ICU_adm\"] = 0\n",
    "hosp_icu.loc[~hosp_icu[\"intime\"].isna(),\"ICU_adm\"] = 1\n",
    "\n",
    "### 去除入住ICU大于1次的患者\n",
    "hosp_icu = hosp_icu.loc[~(hosp_icu[\"hadm_id\"].isin(icu_adm[\"hadm_id\"].value_counts().index[icu_adm[\"hadm_id\"].value_counts()>1]))]\n",
    "\n",
    "### 合并hosp和icu入住信息\n",
    "adm_pn = pd.merge(diagnoses_pn[['subject_id', 'hadm_id', 'mixed_infection']].drop_duplicates(), hosp_icu)\n",
    "\n",
    "adm_pn[[\"subject_id\",\"hadm_id\",\"mixed_infection\"]].drop_duplicates().to_csv(\"pneumonia/patients_pn.csv\")\n",
    "adm_pn[[\"subject_id\",\"hadm_id\",\"admittime\",\"dischtime\"]].drop_duplicates().to_csv(\"pneumonia/outcome_admission.csv\")\n",
    "adm_pn[[\"subject_id\",\"hadm_id\",\"stay_id\",\"ICU_adm\",\"intime\",\"outtime\"]].drop_duplicates().to_csv(\"pneumonia/outcome_admission_icu.csv\")"
   ]
  },
  {
   "cell_type": "code",
   "execution_count": 5,
   "metadata": {},
   "outputs": [],
   "source": [
    "diagnoses_code = pd.read_csv(\"mimic-iv-2/hosp/d_icd_diagnoses.csv\")\n",
    "diagnoses_pn = diagnoses_pn.loc[diagnoses_pn[\"hadm_id\"].isin(adm_pn[\"hadm_id\"])]\n",
    "diagnoses_pn = pd.merge(diagnoses_pn, diagnoses_code)\n",
    "diagnoses_pn.drop_duplicates().to_csv(\"pneumonia/diagnoses_pn.csv\")"
   ]
  },
  {
   "attachments": {},
   "cell_type": "markdown",
   "metadata": {},
   "source": [
    "### 结局-Sepsis"
   ]
  },
  {
   "cell_type": "code",
   "execution_count": 33,
   "metadata": {},
   "outputs": [],
   "source": [
    "sepsis3 = pd.read_csv(\"concepts/sepsis/sepsis3.csv\")\n",
    "sepsis3 = pd.merge(adm_pn[[\"subject_id\", \"hadm_id\",\"stay_id\"]], sepsis3[['subject_id', 'stay_id','sofa_time','sofa_score','sepsis3']], how=\"left\")\n",
    "sepsis3.loc[sepsis3[\"sepsis3\"].isna(),\"sepsis3\"]=0\n",
    "sepsis3.loc[~sepsis3[\"sepsis3\"].isna(),\"sepsis3\"]=1\n",
    "sepsis3.drop_duplicates().to_csv(\"pneumonia/outcome_sepsis3.csv\")"
   ]
  },
  {
   "attachments": {},
   "cell_type": "markdown",
   "metadata": {},
   "source": [
    "### 结局-院内死亡和院外死亡"
   ]
  },
  {
   "cell_type": "code",
   "execution_count": 3,
   "metadata": {},
   "outputs": [],
   "source": [
    "patients = pd.read_csv(\"mimic-iv-2/hosp/patients.csv\")\n",
    "patients['dod'] = pd.to_datetime(patients['dod']).dt.strftime('%Y-%m-%d') + \" 00:00:00\"\n",
    "death = pd.merge(adm_pn[[\"subject_id\", \"hadm_id\",\"deathtime\"]], patients[['subject_id', 'dod']],how='left')\n",
    "death[\"dod\"] = death['deathtime'].combine_first(death['dod'])\n",
    "death[\"inhospital_death\"] = 0\n",
    "death[\"overall_death\"] = 0\n",
    "death.loc[~death[\"deathtime\"].isna(),\"inhospital_death\"] = 1\n",
    "death.loc[~death[\"dod\"].isna(),\"overall_death\"] = 1\n",
    "death.columns = ['subject_id', 'hadm_id', 'inhospital_deathtime', 'overall_deathtime', 'inhospital_death','overall_death']\n",
    "death.drop_duplicates().to_csv(\"pneumonia/outcome_death.csv\")"
   ]
  }
 ],
 "metadata": {
  "kernelspec": {
   "display_name": "Python 3.9.12 ('base': conda)",
   "language": "python",
   "name": "python3"
  },
  "language_info": {
   "codemirror_mode": {
    "name": "ipython",
    "version": 3
   },
   "file_extension": ".py",
   "mimetype": "text/x-python",
   "name": "python",
   "nbconvert_exporter": "python",
   "pygments_lexer": "ipython3",
   "version": "3.9.12"
  },
  "orig_nbformat": 4,
  "vscode": {
   "interpreter": {
    "hash": "bd5a5980a31967086eaababc5338e6a92d5792ba40cc4c910227acd610a4f48f"
   }
  }
 },
 "nbformat": 4,
 "nbformat_minor": 2
}
