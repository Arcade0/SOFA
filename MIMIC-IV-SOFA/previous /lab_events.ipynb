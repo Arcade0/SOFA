{
 "cells": [
  {
   "cell_type": "code",
   "execution_count": 6,
   "metadata": {},
   "outputs": [],
   "source": [
    "import pandas as pd\n",
    "import numpy as np\n",
    "import os\n",
    "import json"
   ]
  },
  {
   "attachments": {},
   "cell_type": "markdown",
   "metadata": {},
   "source": [
    "### 筛选实验室指标"
   ]
  },
  {
   "attachments": {},
   "cell_type": "markdown",
   "metadata": {},
   "source": [
    "#### 读取并换肺炎患者的实验室指标"
   ]
  },
  {
   "cell_type": "code",
   "execution_count": null,
   "metadata": {},
   "outputs": [],
   "source": [
    "patients_bpn = pd.read_csv(\"pn_bact/patients_id.csv\", index_col=0)\n",
    "patients_vpn = pd.read_csv(\"pn_virus/patients_id.csv\", index_col=0)\n",
    "var = pd.read_csv(\"mimic-iv-2/hosp/labevents.csv\")\n",
    "var_label = pd.read_csv(\"mimic-iv-2/hosp/d_labitems.csv\")\n",
    "\n",
    "def transform_lab(var, patients_bpn):\n",
    "    \n",
    "    bpn_sub = patients_bpn['subject_id']\n",
    "\n",
    "    bpn_var =  var.loc[var[\"subject_id\"].isin(bpn_sub)]\n",
    "    bpn_var = bpn_var.drop_duplicates(subset=['subject_id','hadm_id','specimen_id','charttime','itemid'], keep='last')\n",
    "    bpn_vardf = bpn_var.pivot(index=['subject_id','hadm_id','specimen_id','charttime'], columns='itemid', values='value').reset_index()\n",
    "    bpn_vardf.to_csv(\"pn_bact/labevents.csv\")\n",
    "    \n",
    "    return bpn_vardf\n",
    "\n",
    "bpn_vardf = transform_lab(var, patients_bpn)\n",
    "vpn_vardf = transform_lab(var, patients_vpn)"
   ]
  },
  {
   "attachments": {},
   "cell_type": "markdown",
   "metadata": {},
   "source": [
    "#### 筛选实验室指标"
   ]
  },
  {
   "cell_type": "code",
   "execution_count": null,
   "metadata": {},
   "outputs": [],
   "source": [
    "bpn_vardf = pd.read_csv(\"pn_bact/labevents.csv\",index_col=0)\n",
    "vpn_vardf = pd.read_csv(\"pn_virus/labevents.csv\",index_col=0)\n",
    "col = list(bpn_vardf.columns[(np.mean(bpn_vardf.isna())<=0.99)])\n",
    "col.extend(['51214','50889']) # Fibrinogen, Functional,CRP\n",
    "bpn_vardf = bpn_vardf.loc[:,col]\n",
    "bpn_vardf = bpn_vardf[col].drop([\"50887\",\"50933\",\"50934\",\"50947\",\"51678\"], axis=1)\n",
    "\n",
    "set(var_label[(var_label['itemid'].isin(bpn_vardf.columns[3:]))& (var_label[\"fluid\"]==\"Blood\")][\"category\"])\n",
    "\n",
    "bpn_vardf.to_csv(\"pn_bact/labevents_selected.csv\")\n",
    "vpn_vardf = vpn_vardf[bpn_vardf.columns]\n",
    "vpn_vardf.to_csv(\"pn_virus/labevents_selected.csv\")"
   ]
  },
  {
   "attachments": {},
   "cell_type": "markdown",
   "metadata": {},
   "source": [
    "### 检查的项目"
   ]
  },
  {
   "cell_type": "code",
   "execution_count": null,
   "metadata": {},
   "outputs": [],
   "source": [
    "# 查看对应的\n",
    "\n",
    "# {\"gas\": ['Specimen Type','Temperature',\n",
    "#         'pH','Base Excess','Anion Gap',\n",
    "#         'pO2','Oxygen','Oxygen Saturation',\n",
    "#         'pCO2','Calculated Total CO2','Bicarbonate',\n",
    "#         'Free Calcium','Potassium, Whole Blood','Glucose','Lactate',\n",
    "#         'Tidal Volume','Intubated','PEEP','Ventilation Rate','Ventilator'],\n",
    "# \"blood\":['Red Blood Cells', 'Hematocrit','Hemoglobin','RDW-SD', 'RDW',\n",
    "#         'MCH','MCHC','MCV',\n",
    "#         'White Blood Cells',\n",
    "#         'Monocytes','Neutrophils','Basophils','Eosinophils','Lymphocytes',\n",
    "#         'Absolute Lymphocyte Count','Absolute Monocyte Count','Absolute Neutrophil Count','Absolute Basophil Count','Absolute Eosinophil Count',\n",
    "#         'Immature Granulocytes','Atypical Lymphocytes','Metamyelocytes','Myelocytes',\n",
    "#         'Bands','Platelet Count','PT','PTT','INR(PT)'],\n",
    "# \"axin\":['Calcium, Total','Free Calcium','Phosphate','Magnesium','Potassium','Sodium','Chloride'],\n",
    "# \"liver\":['Alanine Aminotransferase (ALT)','Asparate Aminotransferase (AST)', 'Alkaline Phosphatase', 'Albumin', 'Bilirubin, Total','Bilirubin, Indirect', 'Glucose','Creatine Kinase (CK)','Creatine Kinase, MB Isoenzyme','Troponin T', 'Lipase','Lactate Dehydrogenase (LD)','Vancomycin'],\n",
    "# \"kidney\":['Creatinine','Urea Nitrogen']}"
   ]
  }
 ],
 "metadata": {
  "kernelspec": {
   "display_name": "base",
   "language": "python",
   "name": "python3"
  },
  "language_info": {
   "codemirror_mode": {
    "name": "ipython",
    "version": 3
   },
   "file_extension": ".py",
   "mimetype": "text/x-python",
   "name": "python",
   "nbconvert_exporter": "python",
   "pygments_lexer": "ipython3",
   "version": "3.9.12"
  },
  "orig_nbformat": 4
 },
 "nbformat": 4,
 "nbformat_minor": 2
}
