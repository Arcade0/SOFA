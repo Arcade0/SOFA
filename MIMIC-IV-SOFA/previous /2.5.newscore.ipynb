{
 "cells": [
  {
   "cell_type": "code",
   "execution_count": 1,
   "metadata": {},
   "outputs": [],
   "source": [
    "import pandas as pd\n",
    "import numpy as np\n",
    "import scipy.stats as stats"
   ]
  },
  {
   "cell_type": "code",
   "execution_count": 2,
   "metadata": {},
   "outputs": [],
   "source": [
    "varb = pd.read_csv(\"pn_bact/patients_sofa.csv\", index_col=0)\n",
    "varb = varb.loc[varb[\"hr\"]==0]"
   ]
  },
  {
   "cell_type": "code",
   "execution_count": 5,
   "metadata": {},
   "outputs": [],
   "source": [
    "varb[\"res_g\"] = 0\n",
    "varb[\"car_g\"] = 0\n",
    "varb[\"res_car\"] = 0\n",
    "varb[\"cns_g\"] = 0\n",
    "varb[\"renal_g\"] = 0\n",
    "varb[\"other_g\"] = 0\n",
    "\n",
    "\n",
    "varb.loc[(varb['respiration_24hours']>=2) & \n",
    "         (varb['coagulation_24hours']<2) &\n",
    "         (varb['liver_24hours']<2) &\n",
    "         (varb['cns_24hours']<2) &\n",
    "         (varb['renal_24hours']<2) &\n",
    "         (varb['cardiovascular_24hours']<2), \"reg_g\"] = 1\n",
    "\n",
    "varb.loc[(varb['respiration_24hours']<2) & \n",
    "         (varb['coagulation_24hours']<2) &\n",
    "         (varb['liver_24hours']<2) &\n",
    "         (varb['cns_24hours']<2) &\n",
    "         (varb['renal_24hours']<2) &\n",
    "         (varb['cardiovascular_24hours']>=2), \"car_g\"] = 1\n",
    "\n",
    "varb.loc[(varb['respiration_24hours']>=2) & \n",
    "         (varb['coagulation_24hours']<2) &\n",
    "         (varb['liver_24hours']<2) &\n",
    "         (varb['cns_24hours']<2) &\n",
    "         (varb['renal_24hours']<2) &\n",
    "         (varb['cardiovascular_24hours']>=2), \"cns_g\"] = 1\n",
    "\n",
    "varb.loc[(varb['respiration_24hours']<2) &\n",
    "         (varb['coagulation_24hours']<2) &\n",
    "         (varb['liver_24hours']<2) &\n",
    "         (varb['cns_24hours']<2) &\n",
    "         (varb['renal_24hours']>=2) &\n",
    "         (varb['cardiovascular_24hours']<2), \"renal_g\"] = 1\n",
    "\n",
    "varb.loc[(varb['respiration_24hours']<2) &\n",
    "         (varb['coagulation_24hours']<2) &\n",
    "         (varb['liver_24hours']<2) &\n",
    "         (varb['cns_24hours']<2) &\n",
    "         (varb['renal_24hours']<2) &\n",
    "         (varb['cardiovascular_24hours']<2), \"other_g\"] = 1"
   ]
  }
 ],
 "metadata": {
  "kernelspec": {
   "display_name": "Python 3.9.12 ('base': conda)",
   "language": "python",
   "name": "python3"
  },
  "language_info": {
   "codemirror_mode": {
    "name": "ipython",
    "version": 3
   },
   "file_extension": ".py",
   "mimetype": "text/x-python",
   "name": "python",
   "nbconvert_exporter": "python",
   "pygments_lexer": "ipython3",
   "version": "3.9.12"
  },
  "orig_nbformat": 4,
  "vscode": {
   "interpreter": {
    "hash": "bd5a5980a31967086eaababc5338e6a92d5792ba40cc4c910227acd610a4f48f"
   }
  }
 },
 "nbformat": 4,
 "nbformat_minor": 2
}
