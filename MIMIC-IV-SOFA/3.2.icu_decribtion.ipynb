{
 "cells": [
  {
   "attachments": {},
   "cell_type": "markdown",
   "metadata": {},
   "source": [
    "### ICU住院患者"
   ]
  },
  {
   "cell_type": "code",
   "execution_count": 1,
   "metadata": {},
   "outputs": [
    {
     "name": "stdout",
     "output_type": "stream",
     "text": [
      "8.180709534368072 4.191891891891892\n"
     ]
    }
   ],
   "source": [
    "import pandas as pd\n",
    "from copy import deepcopy\n",
    "from survival_curve import survival_curve\n",
    "adm_pn = pd.read_csv(\"pneumonia/adm_pn.csv\", index_col=0)\n",
    "\n",
    "df = deepcopy(adm_pn)\n",
    "df = df.loc[df[\"ICU_adm\"]==1]\n",
    "df['admittime'] = pd.to_datetime(df['intime'])\n",
    "df['dischtime'] = pd.to_datetime(df['outtime'])\n",
    "df['time_diff'] = (df['dischtime'] - df['admittime']).dt.days\n",
    "print(df.loc[df[\"mixed_infection\"]==\"BACT\",\"time_diff\"].mean(),df.loc[df[\"mixed_infection\"]==\"VIRUS\",\"time_diff\"].mean())"
   ]
  },
  {
   "attachments": {},
   "cell_type": "markdown",
   "metadata": {},
   "source": [
    "### Sepsis"
   ]
  },
  {
   "cell_type": "code",
   "execution_count": 5,
   "metadata": {},
   "outputs": [
    {
     "name": "stdout",
     "output_type": "stream",
     "text": [
      "       removed  observed  censored  entrance  at_risk  KM_estimate\n",
      "0.0       1538      1531         7      2423     2423     0.368139\n",
      "1.0        136       113        23         0      885     0.321133\n",
      "2.0        100        70        30         0      749     0.291121\n",
      "3.0         91        46        45         0      649     0.270487\n",
      "4.0         77        32        45         0      558     0.254975\n",
      "5.0         74        23        51         0      481     0.242783\n",
      "6.0         65        17        48         0      407     0.232642\n",
      "7.0         51         9        42         0      342     0.226520\n",
      "8.0         38        11        27         0      291     0.217957\n",
      "9.0         35         6        29         0      253     0.212788\n",
      "10.0        27         9        18         0      218     0.204003\n",
      "11.0        20         5        15         0      191     0.198663\n",
      "12.0        23         4        19         0      171     0.194016\n",
      "13.0        23         2        21         0      148     0.191394\n",
      "14.0        18         4        14         0      125     0.185270\n",
      "15.0        12         3         9         0      107     0.180075\n",
      "16.0         9         4         5         0       95     0.172493\n",
      "17.0        11         3         8         0       86     0.166476\n",
      "18.0         6         2         4         0       75     0.162036\n",
      "19.0         4         0         4         0       69     0.162036\n",
      "20.0         4         3         1         0       65     0.154558\n",
      "21.0         3         0         3         0       61     0.154558\n",
      "22.0         7         2         5         0       58     0.149228\n",
      "23.0         4         1         3         0       51     0.146302\n",
      "24.0         5         3         2         0       47     0.136964\n",
      "25.0         1         0         1         0       42     0.136964\n",
      "26.0         1         1         0         0       41     0.133623\n",
      "27.0         1         0         1         0       40     0.133623\n",
      "28.0         2         1         1         0       39     0.130197\n",
      "29.0         3         0         3         0       37     0.130197\n",
      "30.0         1         0         1         0       34     0.130197\n",
      "31.0         4         2         2         0       33     0.122306\n",
      "32.0         2         1         1         0       29     0.118089\n",
      "34.0         1         0         1         0       27     0.118089\n",
      "35.0         3         0         3         0       26     0.118089\n",
      "38.0         2         0         2         0       23     0.118089\n",
      "39.0         2         0         2         0       21     0.118089\n",
      "40.0         2         2         0         0       19     0.105658\n",
      "41.0         1         0         1         0       17     0.105658\n",
      "42.0         1         0         1         0       16     0.105658\n",
      "43.0         3         0         3         0       15     0.105658\n",
      "44.0         1         0         1         0       12     0.105658\n",
      "45.0         1         0         1         0       11     0.105658\n",
      "47.0         1         0         1         0       10     0.105658\n",
      "49.0         2         0         2         0        9     0.105658\n",
      "51.0         1         0         1         0        7     0.105658\n",
      "56.0         1         0         1         0        6     0.105658\n",
      "66.0         1         1         0         0        5     0.084527\n",
      "69.0         1         0         1         0        4     0.084527\n",
      "71.0         1         0         1         0        3     0.084527\n",
      "159.0        1         1         0         0        2     0.042263\n",
      "295.0        1         0         1         0        1     0.042263\n"
     ]
    },
    {
     "data": {
      "image/png": "[encoded data removed]",
      "text/plain": [
       "<Figure size 432x288 with 1 Axes>"
      ]
     },
     "metadata": {
      "needs_background": "light"
     },
     "output_type": "display_data"
    },
    {
     "name": "stdout",
     "output_type": "stream",
     "text": [
      "6.109496474953583e-11\n"
     ]
    }
   ],
   "source": [
    "import pandas as pd\n",
    "from copy import deepcopy\n",
    "from survival_curve import survival_curve\n",
    "adm_pn = pd.read_csv(\"pneumonia/adm_pn.csv\", index_col=0)\n",
    "adm_pn = deepcopy(adm_pn.loc[adm_pn[\"ICU_adm\"]==1])\n",
    "sofa = pd.read_csv(\"concepts/spesis/sepsis3.csv\")\n",
    "df = pd.merge(adm_pn, sofa, how=\"left\")\n",
    "df = df.loc[df[\"ICU_adm\"]==1]\n",
    "df[\"sepsis_event\"] = 1\n",
    "df.loc[df[\"sofa_score\"].isna(),\"sepsis_event\"] = 0\n",
    "df['admittime'] = pd.to_datetime(df['admittime'])\n",
    "df['dischtime'] = pd.to_datetime(df['dischtime'])\n",
    "df['sofa_time'] = pd.to_datetime(df['sofa_time'],format = \"%d/%m/%Y %H:%M:%S\")\n",
    "\n",
    "# 计算时间差并提取天数\n",
    "df['time_diff'] = df.apply(lambda row: (row['sofa_time'] - row['admittime']).days if row['sepsis_event'] == 1 else (row['dischtime'] - row['admittime']).days, axis=1)\n",
    "\n",
    "# 第一次sepsis时间\n",
    "survival_d = df.groupby(['hadm_id', 'subject_id', 'mixed_infection','sepsis_event']).min().reset_index()\n",
    "from survival_curve import survival_curve\n",
    "survival_curve(survival_d,\"time_diff\",\"sepsis_event\",'mixed_infection',\"BACT\",\"VIRUS\",\"BACT\",\"VIRUS\",\"Days\",\"Non Sepsis\",[0,30],[0,0.5])\n",
    "# survival_d.to_csv(\"pneumonia/outcome_hospdeath.csv\")"
   ]
  },
  {
   "attachments": {},
   "cell_type": "markdown",
   "metadata": {},
   "source": [
    "### 机械通气"
   ]
  },
  {
   "cell_type": "code",
   "execution_count": 6,
   "metadata": {},
   "outputs": [
    {
     "name": "stdout",
     "output_type": "stream",
     "text": [
      "        removed  observed  censored  entrance  at_risk  KM_estimate\n",
      "-1.0         37        37         0      2423     2423     0.984730\n",
      " 0.0       1026      1019         7         0     2386     0.564177\n",
      " 1.0        136       109        27         0     1360     0.518960\n",
      " 2.0        135        85        50         0     1224     0.482921\n",
      " 3.0        139        54        85         0     1089     0.458974\n",
      " 4.0        134        38        96         0      950     0.440615\n",
      " 5.0        134        34       100         0      816     0.422256\n",
      " 6.0        114        18        96         0      682     0.411112\n",
      " 7.0         81        10        71         0      568     0.403874\n",
      " 8.0         70        12        58         0      487     0.393922\n",
      " 9.0         69         9        60         0      417     0.385420\n",
      " 10.0        51         6        45         0      348     0.378775\n",
      " 11.0        40         5        35         0      297     0.372398\n",
      " 12.0        35         5        30         0      257     0.365153\n",
      " 13.0        35         2        33         0      222     0.361864\n",
      " 14.0        23         3        20         0      187     0.356058\n",
      " 15.0        17         3        14         0      164     0.349545\n",
      " 16.0        13         4         9         0      147     0.340034\n",
      " 17.0        20         2        18         0      134     0.334958\n",
      " 18.0        13         2        11         0      114     0.329082\n",
      " 19.0         5         1         4         0      101     0.325824\n",
      " 20.0         7         1         6         0       96     0.322430\n",
      " 21.0         5         0         5         0       89     0.322430\n",
      " 22.0        13         2        11         0       84     0.314753\n",
      " 23.0         5         1         4         0       71     0.310320\n",
      " 24.0         6         2         4         0       66     0.300916\n",
      " 25.0         9         1         8         0       60     0.295901\n",
      " 26.0         1         1         0         0       51     0.290099\n",
      " 27.0         1         1         0         0       50     0.284297\n",
      " 28.0         4         1         3         0       49     0.278495\n",
      " 29.0         2         0         2         0       45     0.278495\n",
      " 30.0         1         0         1         0       43     0.278495\n",
      " 31.0         5         2         3         0       42     0.265233\n",
      " 32.0         1         0         1         0       37     0.265233\n",
      " 33.0         2         1         1         0       36     0.257866\n",
      " 34.0         1         0         1         0       34     0.257866\n",
      " 35.0         2         0         2         0       33     0.257866\n",
      " 36.0         1         1         0         0       31     0.249547\n",
      " 38.0         2         0         2         0       30     0.249547\n",
      " 39.0         3         0         3         0       28     0.249547\n",
      " 40.0         1         0         1         0       25     0.249547\n",
      " 41.0         3         0         3         0       24     0.249547\n",
      " 42.0         2         1         1         0       21     0.237664\n",
      " 43.0         2         0         2         0       19     0.237664\n",
      " 44.0         2         0         2         0       17     0.237664\n",
      " 49.0         3         0         3         0       15     0.237664\n",
      " 51.0         1         0         1         0       12     0.237664\n",
      " 56.0         2         0         2         0       11     0.237664\n",
      " 57.0         1         0         1         0        9     0.237664\n",
      " 61.0         1         0         1         0        8     0.237664\n",
      " 68.0         1         0         1         0        7     0.237664\n",
      " 69.0         1         0         1         0        6     0.237664\n",
      " 70.0         1         1         0         0        5     0.190131\n",
      " 71.0         1         0         1         0        4     0.190131\n",
      " 114.0        1         0         1         0        3     0.190131\n",
      " 150.0        1         1         0         0        2     0.095066\n",
      " 176.0        1         0         1         0        1     0.095066\n"
     ]
    },
    {
     "data": {
      "image/png": "[encoded data removed]",
      "text/plain": [
       "<Figure size 432x288 with 1 Axes>"
      ]
     },
     "metadata": {
      "needs_background": "light"
     },
     "output_type": "display_data"
    },
    {
     "name": "stdout",
     "output_type": "stream",
     "text": [
      "1.8202577022532605e-25\n"
     ]
    }
   ],
   "source": [
    "import pandas as pd\n",
    "from copy import deepcopy\n",
    "from survival_curve import survival_curve\n",
    "adm_pn = pd.read_csv(\"pneumonia/adm_pn.csv\", index_col=0)\n",
    "ventil = pd.read_csv(\"concepts/treatment/ventilation.csv\")\n",
    "ventil = ventil.loc[ventil[\"ventilation_status\"].isin([\"InvasiveVent\",\"Tracheostomy\"])]\n",
    "df = pd.merge(adm_pn, ventil, how=\"left\")\n",
    "df = df.loc[df[\"ICU_adm\"]==1]\n",
    "df[\"ventilation_event\"] = 1\n",
    "df.loc[df[\"ventilation_status\"].isna(),\"ventilation_event\"] = 0\n",
    "\n",
    "df['admittime'] = pd.to_datetime(df['admittime'])\n",
    "df['dischtime'] = pd.to_datetime(df['dischtime'])\n",
    "df['starttime'] = pd.to_datetime(df['starttime'],format = \"%d/%m/%Y %H:%M:%S\")\n",
    "\n",
    "# 计算时间差并提取天数\n",
    "df['time_diff'] = df.apply(lambda row: (row['starttime'] - row['admittime']).days if row['ventilation_event'] == 1 else (row['dischtime'] - row['admittime']).days, axis=1)\n",
    "\n",
    "# 第一次插管时间\n",
    "df = df.groupby(['hadm_id', 'subject_id', 'mixed_infection','ventilation_event']).min().reset_index()\n",
    "from survival_curve import survival_curve\n",
    "survival_curve(df,\"time_diff\",\"ventilation_event\",'mixed_infection',\"BACT\",\"VIRUS\",\"BACT\",\"VIRUS\",\"Days\",\"Non Vent\",[0,31],[0,1])"
   ]
  },
  {
   "attachments": {},
   "cell_type": "markdown",
   "metadata": {},
   "source": [
    "### ICU患者病死率"
   ]
  },
  {
   "cell_type": "code",
   "execution_count": 8,
   "metadata": {},
   "outputs": [
    {
     "name": "stdout",
     "output_type": "stream",
     "text": [
      "        removed  observed  censored  entrance  at_risk  KM_estimate\n",
      "-1.0          1         1         0      2690     2690     0.999628\n",
      " 0.0         24        15         9         0     2689     0.994052\n",
      " 1.0         60        19        41         0     2665     0.986965\n",
      " 2.0         87        23        64         0     2605     0.978251\n",
      " 3.0        136        20       116         0     2518     0.970481\n",
      "...         ...       ...       ...       ...      ...          ...\n",
      " 90.0         1         0         1         0        7     0.390952\n",
      " 100.0        2         2         0         0        6     0.260635\n",
      " 114.0        1         0         1         0        4     0.260635\n",
      " 122.0        2         0         2         0        3     0.260635\n",
      " 145.0        1         0         1         0        1     0.260635\n",
      "\n",
      "[78 rows x 6 columns]\n"
     ]
    },
    {
     "data": {
      "image/png": "[encoded data removed]",
      "text/plain": [
       "<Figure size 432x288 with 1 Axes>"
      ]
     },
     "metadata": {
      "needs_background": "light"
     },
     "output_type": "display_data"
    },
    {
     "name": "stdout",
     "output_type": "stream",
     "text": [
      "6.024564482659053e-01\n"
     ]
    }
   ],
   "source": [
    "import pandas as pd\n",
    "from copy import deepcopy\n",
    "adm_pn = pd.read_csv(\"pneumonia/adm_pn.csv\", index_col=0)\n",
    "df = deepcopy(adm_pn)\n",
    "df = df.loc[adm_pn[\"ICU_adm\"]==1]\n",
    "\n",
    "df['dischtime'] = pd.to_datetime(df['dischtime'])\n",
    "df['deathtime'] = pd.to_datetime(df['deathtime'])\n",
    "df['intime'] = pd.to_datetime(df['intime'])\n",
    "\n",
    "# 计算时间差并提取天数\n",
    "df['time_diff'] = df.apply(lambda row: (row['deathtime'] - row['intime']).days if row['death_event'] == 1 else (row['dischtime'] - row['intime']).days, axis=1)\n",
    "\n",
    "# ICU死亡事件\n",
    "from survival_curve import survival_curve\n",
    "survival_curve(df,\"time_diff\",\"death_event\",'mixed_infection',\"BACT\",\"VIRUS\",\"BACT\",\"VIRUS\",\"Days\",\"Survial\",[0,31],[0.5,1])\n",
    "df.to_csv(\"pneumonia/outcome_hospdeath.csv\")"
   ]
  },
  {
   "attachments": {},
   "cell_type": "markdown",
   "metadata": {},
   "source": [
    "### ICU患者31天病死率"
   ]
  },
  {
   "cell_type": "code",
   "execution_count": 20,
   "metadata": {},
   "outputs": [],
   "source": [
    "import pandas as pd\n",
    "adm_pn = pd.read_csv(\"pneumonia/adm_pn.csv\", index_col=0)\n",
    "adm_pn = adm_pn.loc[adm_pn[\"ICU_adm\"]==1]\n",
    "patients = pd.read_csv(\"../MIMIC-IV/mimic-iv-2/hosp/patients.csv\")\n",
    "patients['dod'] = pd.to_datetime(patients['dod']).dt.strftime('%Y-%m-%d') + \" 00:00:00\"\n",
    "# 使用merge函数将两个数据框按照subject_id列进行合并\n",
    "merged_df = pd.merge(adm_pn, patients[['subject_id', 'dod']], on='subject_id', how='left')\n",
    "# 将第二个数据框中的DOD列的值替换第一个数据框中的deathtime列的值\n",
    "merged_df['deathtime'] = merged_df['deathtime'].combine_first(merged_df['dod'])\n",
    "# 删除多余的列（dod列）\n",
    "merged_df = merged_df.drop('dod', axis=1)\n",
    "\n",
    "df = deepcopy(merged_df)\n",
    "df['admittime'] = pd.to_datetime(df['admittime'])\n",
    "df['dischtime'] = pd.to_datetime(df['dischtime'])\n",
    "df['deathtime'] = pd.to_datetime(df['deathtime'])\n",
    "\n",
    "# 计算时间差并提取天数\n",
    "df['time_diff'] = df.apply(lambda row: (row['deathtime'] - row['admittime']).days if row['death_event'] == 1 else (row['dischtime'] - row['admittime']).days, axis=1)\n",
    "\n",
    "# 住院死亡事件\n",
    "from survival_curve import survival_curve\n",
    "survival_curve(df,\"time_diff\",\"death_event\",'mixed_infection',\"BACT\",\"VIRUS\",\"BACT\",\"VIRUS\",\"Days\",\"Survial\",[0,31],[0.5,1])"
   ]
  }
 ],
 "metadata": {
  "kernelspec": {
   "display_name": "base",
   "language": "python",
   "name": "python3"
  },
  "language_info": {
   "codemirror_mode": {
    "name": "ipython",
    "version": 3
   },
   "file_extension": ".py",
   "mimetype": "text/x-python",
   "name": "python",
   "nbconvert_exporter": "python",
   "pygments_lexer": "ipython3",
   "version": "3.9.12"
  },
  "orig_nbformat": 4
 },
 "nbformat": 4,
 "nbformat_minor": 2
}
