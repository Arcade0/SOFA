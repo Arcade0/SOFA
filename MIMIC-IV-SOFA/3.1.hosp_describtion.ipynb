{
 "cells": [
  {
   "attachments": {},
   "cell_type": "markdown",
   "metadata": {},
   "source": [
    "### 住院时间\n"
   ]
  },
  {
   "cell_type": "code",
   "execution_count": 1,
   "metadata": {},
   "outputs": [
    {
     "name": "stdout",
     "output_type": "stream",
     "text": [
      "11.02492122600974 5.212435233160622\n"
     ]
    }
   ],
   "source": [
    "import pandas as pd\n",
    "from copy import deepcopy\n",
    "from survival_curve import survival_curve\n",
    "adm_pn = pd.read_csv(\"pneumonia/adm_pn.csv\", index_col=0)\n",
    "\n",
    "df = deepcopy(adm_pn)\n",
    "df['admittime'] = pd.to_datetime(df['admittime'])\n",
    "df['dischtime'] = pd.to_datetime(df['dischtime'])\n",
    "df['time_diff'] = (df['dischtime'] - df['admittime']).dt.days\n",
    "print(df.loc[df[\"mixed_infection\"]==\"BACT\",\"time_diff\"].mean(),df.loc[df[\"mixed_infection\"]==\"VIRUS\",\"time_diff\"].mean())"
   ]
  },
  {
   "attachments": {},
   "cell_type": "markdown",
   "metadata": {},
   "source": [
    "### 发生sepsis\n"
   ]
  },
  {
   "cell_type": "code",
   "execution_count": 81,
   "metadata": {},
   "outputs": [
    {
     "name": "stdout",
     "output_type": "stream",
     "text": [
      "       removed  observed  censored  entrance  at_risk  KM_estimate\n",
      "0.0       1538      1531         7      2423     2423     0.368139\n",
      "1.0        136       113        23         0      885     0.321133\n",
      "2.0        100        70        30         0      749     0.291121\n",
      "3.0         91        46        45         0      649     0.270487\n",
      "4.0         77        32        45         0      558     0.254975\n",
      "5.0         74        23        51         0      481     0.242783\n",
      "6.0         65        17        48         0      407     0.232642\n",
      "7.0         51         9        42         0      342     0.226520\n",
      "8.0         38        11        27         0      291     0.217957\n",
      "9.0         35         6        29         0      253     0.212788\n",
      "10.0        27         9        18         0      218     0.204003\n",
      "11.0        20         5        15         0      191     0.198663\n",
      "12.0        23         4        19         0      171     0.194016\n",
      "13.0        23         2        21         0      148     0.191394\n",
      "14.0        18         4        14         0      125     0.185270\n",
      "15.0        12         3         9         0      107     0.180075\n",
      "16.0         9         4         5         0       95     0.172493\n",
      "17.0        11         3         8         0       86     0.166476\n",
      "18.0         6         2         4         0       75     0.162036\n",
      "19.0         4         0         4         0       69     0.162036\n",
      "20.0         4         3         1         0       65     0.154558\n",
      "21.0         3         0         3         0       61     0.154558\n",
      "22.0         7         2         5         0       58     0.149228\n",
      "23.0         4         1         3         0       51     0.146302\n",
      "24.0         5         3         2         0       47     0.136964\n",
      "25.0         1         0         1         0       42     0.136964\n",
      "26.0         1         1         0         0       41     0.133623\n",
      "27.0         1         0         1         0       40     0.133623\n",
      "28.0         2         1         1         0       39     0.130197\n",
      "29.0         3         0         3         0       37     0.130197\n",
      "30.0         1         0         1         0       34     0.130197\n",
      "31.0         4         2         2         0       33     0.122306\n",
      "32.0         2         1         1         0       29     0.118089\n",
      "34.0         1         0         1         0       27     0.118089\n",
      "35.0         3         0         3         0       26     0.118089\n",
      "38.0         2         0         2         0       23     0.118089\n",
      "39.0         2         0         2         0       21     0.118089\n",
      "40.0         2         2         0         0       19     0.105658\n",
      "41.0         1         0         1         0       17     0.105658\n",
      "42.0         1         0         1         0       16     0.105658\n",
      "43.0         3         0         3         0       15     0.105658\n",
      "44.0         1         0         1         0       12     0.105658\n",
      "45.0         1         0         1         0       11     0.105658\n",
      "47.0         1         0         1         0       10     0.105658\n",
      "49.0         2         0         2         0        9     0.105658\n",
      "51.0         1         0         1         0        7     0.105658\n",
      "56.0         1         0         1         0        6     0.105658\n",
      "66.0         1         1         0         0        5     0.084527\n",
      "69.0         1         0         1         0        4     0.084527\n",
      "71.0         1         0         1         0        3     0.084527\n",
      "159.0        1         1         0         0        2     0.042263\n",
      "295.0        1         0         1         0        1     0.042263\n"
     ]
    },
    {
     "data": {
      "image/png": "[encoded data removed]",
      "text/plain": [
       "<Figure size 432x288 with 1 Axes>"
      ]
     },
     "metadata": {
      "needs_background": "light"
     },
     "output_type": "display_data"
    },
    {
     "name": "stdout",
     "output_type": "stream",
     "text": [
      "6.109496474953583e-11\n"
     ]
    }
   ],
   "source": [
    "import pandas as pd\n",
    "from copy import deepcopy\n",
    "from survival_curve import survival_curve\n",
    "adm_pn = pd.read_csv(\"pneumonia/adm_pn.csv\", index_col=0)\n",
    "adm_pn = deepcopy(adm_pn.loc[adm_pn[\"ICU_adm\"]==1])\n",
    "\n",
    "sofa = pd.read_csv(\"concepts/score/sepsis3.csv\")\n",
    "df = pd.merge(adm_pn, sofa, how=\"left\")\n",
    "\n",
    "df[\"sepsis_event\"] = 1\n",
    "df.loc[df[\"sofa_score\"].isna(),\"sepsis_event\"] = 0\n",
    "df['admittime'] = pd.to_datetime(df['admittime'])\n",
    "df['dischtime'] = pd.to_datetime(df['dischtime'])\n",
    "df['sofa_time'] = pd.to_datetime(df['sofa_time'],format = \"%d/%m/%Y %H:%M:%S\")\n",
    "\n",
    "# 计算时间差并提取天数\n",
    "df['time_diff'] = df.apply(lambda row: (row['sofa_time'] - row['admittime']).days if row['sepsis_event'] == 1 else (row['dischtime'] - row['admittime']).days, axis=1)\n",
    "\n",
    "# 第一次sepsis时间\n",
    "survival_d = df.groupby(['hadm_id', 'subject_id', 'mixed_infection','sepsis_event']).min().reset_index()\n",
    "from survival_curve import survival_curve\n",
    "survival_curve(survival_d,\"time_diff\",\"sepsis_event\",'mixed_infection',\"BACT\",\"VIRUS\",\"BACT\",\"VIRUS\",\"Days\",\"Non Sepsis\",[0,30],[0,0.5])\n",
    "# survival_d.to_csv(\"pneumonia/outcome_hospdeath.csv\")"
   ]
  },
  {
   "attachments": {},
   "cell_type": "markdown",
   "metadata": {},
   "source": [
    "### 非肺炎导致的Sepsis的差别"
   ]
  },
  {
   "cell_type": "code",
   "execution_count": 6,
   "metadata": {},
   "outputs": [],
   "source": [
    "adm_pn = pd.read_csv(\"pneumonia/adm_pn.csv\", index_col=0)\n",
    "adm_pn = adm_pn.loc[adm_pn[\"mixed_infection\"]==\"BACT\"]\n",
    "\n",
    "sofa = pd.read_csv(\"concepts/spesis/sepsis3.csv\")\n",
    "sofa_npn = sofa.loc[~sofa[\"stay_id\"].isin(adm_pn[\"stay_id\"])]\n",
    "adm_npn = hosp_icu.loc[hosp_icu[\"stay_id\"].isin(sofa_npn[\"stay_id\"])]\n",
    "diagnoses_npn = diagnoses.loc[diagnoses[\"hadm_id\"].isin(adm_npn[\"hadm_id\"])]\n",
    "adm_npn = pd.merge(diagnoses_npn, adm_npn)\n",
    "adm_npn.to_csv(\"pneumonia/adm_npn.csv\")\n",
    "\n",
    "adm_pn[\"pn\"] = 1\n",
    "adm_npn[\"pn\"] = 0\n",
    "sofa = pd.read_csv(\"concepts/score/sepsis3.csv\")\n",
    "df = pd.concat([adm_pn.loc[adm_pn[\"stay_id\"].isin(sofa[\"stay_id\"]),adm_npn.columns], adm_npn])"
   ]
  },
  {
   "cell_type": "code",
   "execution_count": 7,
   "metadata": {},
   "outputs": [
    {
     "name": "stdout",
     "output_type": "stream",
     "text": [
      "        removed  observed  censored  entrance  at_risk  KM_estimate\n",
      "-1.0          4         4         0     28077    28077     0.999858\n",
      " 0.0        565       442       123         0    28073     0.984115\n",
      " 1.0        919       491       428         0    27508     0.966549\n",
      " 2.0       1385       351      1034         0    26589     0.953790\n",
      " 3.0       1907       304      1603         0    25204     0.942286\n",
      "...         ...       ...       ...       ...      ...          ...\n",
      " 145.0        1         0         1         0        5     0.271993\n",
      " 154.0        1         0         1         0        4     0.271993\n",
      " 176.0        1         1         0         0        3     0.181329\n",
      " 184.0        1         0         1         0        2     0.181329\n",
      " 249.0        1         0         1         0        1     0.181329\n",
      "\n",
      "[113 rows x 6 columns]\n"
     ]
    },
    {
     "data": {
      "image/png": "[encoded data removed]",
      "text/plain": [
       "<Figure size 432x288 with 1 Axes>"
      ]
     },
     "metadata": {
      "needs_background": "light"
     },
     "output_type": "display_data"
    },
    {
     "name": "stdout",
     "output_type": "stream",
     "text": [
      "2.586841304922954e-03\n"
     ]
    }
   ],
   "source": [
    "df['admittime'] = pd.to_datetime(df['admittime'])\n",
    "df['dischtime'] = pd.to_datetime(df['dischtime'])\n",
    "df['deathtime'] = pd.to_datetime(df['deathtime'])\n",
    "# df['sofa_time'] = pd.to_datetime(df['sofa_time'],format = \"%d/%m/%Y %H:%M:%S\")\n",
    "\n",
    "# 计算时间差并提取天数\n",
    "df['time_diff'] = df.apply(lambda row: (row['deathtime'] - row['admittime']).days if row['death_event'] == 1 else (row['dischtime'] - row['admittime']).days, axis=1)\n",
    "\n",
    "# 第一次sepsis时间\n",
    "survival_d = df.groupby(['hadm_id', 'subject_id', 'pn','death_event']).min().reset_index()\n",
    "from survival_curve import survival_curve\n",
    "survival_curve(survival_d,\"time_diff\",\"death_event\",'pn',1,0,\"pn\",\"npn\",\"Days\",\"Survival\",[0,60],[0.4,1])"
   ]
  },
  {
   "attachments": {},
   "cell_type": "markdown",
   "metadata": {},
   "source": [
    "### 入住ICU\n"
   ]
  },
  {
   "cell_type": "code",
   "execution_count": 14,
   "metadata": {},
   "outputs": [
    {
     "name": "stdout",
     "output_type": "stream",
     "text": [
      "        removed  observed  censored  entrance  at_risk  KM_estimate\n",
      "-1.0         20        19         1      5859     5859     0.996757\n",
      " 0.0       2123      1799       324         0     5839     0.689656\n",
      " 1.0        645        92       553         0     3716     0.672581\n",
      " 2.0        617        63       554         0     3071     0.658784\n",
      " 3.0        494        38       456         0     2454     0.648582\n",
      "...         ...       ...       ...       ...      ...          ...\n",
      " 98.0         1         0         1         0        5     0.430654\n",
      " 114.0        1         0         1         0        4     0.430654\n",
      " 150.0        1         1         0         0        3     0.287102\n",
      " 151.0        1         0         1         0        2     0.287102\n",
      " 159.0        1         1         0         0        1     0.000000\n",
      "\n",
      "[78 rows x 6 columns]\n"
     ]
    },
    {
     "data": {
      "image/png": "[encoded data removed]",
      "text/plain": [
       "<Figure size 432x288 with 1 Axes>"
      ]
     },
     "metadata": {
      "needs_background": "light"
     },
     "output_type": "display_data"
    },
    {
     "name": "stdout",
     "output_type": "stream",
     "text": [
      "1.2655542770822712e-99\n"
     ]
    }
   ],
   "source": [
    "import pandas as pd\n",
    "from copy import deepcopy\n",
    "from survival_curve import survival_curve\n",
    "adm_pn = pd.read_csv(\"pneumonia/adm_pn.csv\", index_col=0)\n",
    "df = deepcopy(adm_pn)\n",
    "df['admittime'] = pd.to_datetime(df['admittime'])\n",
    "df['dischtime'] = pd.to_datetime(df['dischtime'])\n",
    "df['intime'] = pd.to_datetime(df['intime'])\n",
    "\n",
    "# 计算时间差并提取天数\n",
    "df['time_diff'] = df.apply(lambda row: (row['intime'] - row['admittime']).days if row['ICU_adm'] == 1 else (row['dischtime'] - row['admittime']).days, axis=1)\n",
    "\n",
    "# 入住ICU事件\n",
    "from survival_curve import survival_curve\n",
    "survival_curve(df,\"time_diff\",\"ICU_adm\",'mixed_infection',\"BACT\",\"VIRUS\",\"BACT\",\"VIRUS\",\"Days\",\"NO ICU\",[0,31],[0,1])"
   ]
  },
  {
   "attachments": {},
   "cell_type": "markdown",
   "metadata": {},
   "source": [
    "### 住院患者病死\n"
   ]
  },
  {
   "cell_type": "code",
   "execution_count": 2,
   "metadata": {},
   "outputs": [
    {
     "name": "stdout",
     "output_type": "stream",
     "text": [
      "        removed  observed  censored  entrance  at_risk  KM_estimate\n",
      "-1.0          1         0         1      3685     3685     1.000000\n",
      " 0.0        324         3       321         0     3684     0.999186\n",
      " 1.0        553         1       552         0     3360     0.998888\n",
      " 2.0        554         2       552         0     2807     0.998177\n",
      " 3.0        456         0       456         0     2253     0.998177\n",
      "...         ...       ...       ...       ...      ...          ...\n",
      " 90.0         1         0         1         0        5     0.707655\n",
      " 91.0         1         1         0         0        4     0.530741\n",
      " 98.0         1         1         0         0        3     0.353827\n",
      " 114.0        1         0         1         0        2     0.353827\n",
      " 151.0        1         0         1         0        1     0.353827\n",
      "\n",
      "[76 rows x 6 columns]\n"
     ]
    },
    {
     "data": {
      "image/png": "[encoded data removed]",
      "text/plain": [
       "<Figure size 432x288 with 1 Axes>"
      ]
     },
     "metadata": {
      "needs_background": "light"
     },
     "output_type": "display_data"
    },
    {
     "name": "stdout",
     "output_type": "stream",
     "text": [
      "2.609645438670544e-01\n"
     ]
    }
   ],
   "source": [
    "import pandas as pd\n",
    "from copy import deepcopy\n",
    "from survival_curve import survival_curve\n",
    "adm_pn = pd.read_csv(\"pneumonia/adm_pn.csv\", index_col=0)\n",
    "\n",
    "df = deepcopy(adm_pn)\n",
    "\n",
    "df['admittime'] = pd.to_datetime(df['admittime'])\n",
    "df['dischtime'] = pd.to_datetime(df['dischtime'])\n",
    "df['deathtime'] = pd.to_datetime(df['deathtime'])\n",
    "\n",
    "# 计算时间差并提取天数\n",
    "df['time_diff'] = df.apply(lambda row: (row['deathtime'] - row['admittime']).days if row['death_event'] == 1 else (row['dischtime'] - row['admittime']).days, axis=1)\n",
    "\n",
    "# 住院死亡事件\n",
    "from survival_curve import survival_curve\n",
    "survival_curve(df,\"time_diff\",\"death_event\",'mixed_infection',\"BACT\",\"VIRUS\",\"BACT\",\"VIRUS\",\"Days\",\"Survial\",[0,31],[0.5,1])"
   ]
  },
  {
   "attachments": {},
   "cell_type": "markdown",
   "metadata": {},
   "source": [
    "### 住院患者31天病死率"
   ]
  },
  {
   "cell_type": "code",
   "execution_count": 3,
   "metadata": {},
   "outputs": [
    {
     "name": "stdout",
     "output_type": "stream",
     "text": [
      "        removed  observed  censored  entrance  at_risk  KM_estimate\n",
      "-1.0          1         0         1      3685     3685     1.000000\n",
      " 0.0        325         4       321         0     3684     0.998914\n",
      " 1.0        552         0       552         0     3359     0.998914\n",
      " 2.0        554         2       552         0     2807     0.998202\n",
      " 3.0        456         0       456         0     2253     0.998202\n",
      "...         ...       ...       ...       ...      ...          ...\n",
      " 85.0         2         0         2         0        7     0.715235\n",
      " 90.0         2         1         1         0        5     0.572188\n",
      " 98.0         1         1         0         0        3     0.381459\n",
      " 114.0        1         0         1         0        2     0.381459\n",
      " 151.0        1         0         1         0        1     0.381459\n",
      "\n",
      "[74 rows x 6 columns]\n"
     ]
    },
    {
     "data": {
      "image/png": "[encoded data removed]",
      "text/plain": [
       "<Figure size 432x288 with 1 Axes>"
      ]
     },
     "metadata": {
      "needs_background": "light"
     },
     "output_type": "display_data"
    },
    {
     "name": "stdout",
     "output_type": "stream",
     "text": [
      "2.3487036075179119e-01\n"
     ]
    }
   ],
   "source": [
    "import pandas as pd\n",
    "adm_pn = pd.read_csv(\"pneumonia/adm_pn.csv\", index_col=0)\n",
    "adm_pn = adm_pn.loc[adm_pn[\"ICU_adm\"]==0]\n",
    "\n",
    "patients = pd.read_csv(\"../MIMIC-IV/mimic-iv-2/hosp/patients.csv\")\n",
    "patients['dod'] = pd.to_datetime(patients['dod']).dt.strftime('%Y-%m-%d') + \" 00:00:00\"\n",
    "# 使用merge函数将两个数据框按照subject_id列进行合并\n",
    "merged_df = pd.merge(adm_pn, patients[['subject_id', 'dod']], on='subject_id', how='left')\n",
    "# 将第二个数据框中的DOD列的值替换第一个数据框中的deathtime列的值\n",
    "merged_df['deathtime'] = merged_df['deathtime'].combine_first(merged_df['dod'])\n",
    "\n",
    "# 删除多余的列（dod列）\n",
    "merged_df = merged_df.drop('dod', axis=1)\n",
    "\n",
    "df = deepcopy(merged_df)\n",
    "df['admittime'] = pd.to_datetime(df['admittime'])\n",
    "df['dischtime'] = pd.to_datetime(df['dischtime'])\n",
    "df['deathtime'] = pd.to_datetime(df['deathtime'])\n",
    "\n",
    "# 计算时间差并提取天数\n",
    "df['time_diff'] = df.apply(lambda row: (row['deathtime'] - row['admittime']).days if row['death_event'] == 1 else (row['dischtime'] - row['admittime']).days, axis=1)\n",
    "\n",
    "# 住院死亡事件\n",
    "from survival_curve import survival_curve\n",
    "survival_curve(df,\"time_diff\",\"death_event\",'mixed_infection',\"BACT\",\"VIRUS\",\"BACT\",\"VIRUS\",\"Days\",\"Survial\",[0,31],[0.5,1])"
   ]
  }
 ],
 "metadata": {
  "kernelspec": {
   "display_name": "base",
   "language": "python",
   "name": "python3"
  },
  "language_info": {
   "codemirror_mode": {
    "name": "ipython",
    "version": 3
   },
   "file_extension": ".py",
   "mimetype": "text/x-python",
   "name": "python",
   "nbconvert_exporter": "python",
   "pygments_lexer": "ipython3",
   "version": "3.9.12"
  },
  "orig_nbformat": 4
 },
 "nbformat": 4,
 "nbformat_minor": 2
}
