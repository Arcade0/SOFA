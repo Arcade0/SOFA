{
 "cells": [
  {
   "cell_type": "code",
   "execution_count": 1,
   "metadata": {},
   "outputs": [],
   "source": [
    "import pandas as pd\n",
    "import numpy as np\n",
    "import json"
   ]
  },
  {
   "cell_type": "code",
   "execution_count": 2,
   "metadata": {},
   "outputs": [
    {
     "name": "stderr",
     "output_type": "stream",
     "text": [
      "/tmp/ipykernel_920862/3103570732.py:5: FutureWarning: In a future version of pandas all arguments of concat except for the argument 'objs' will be keyword-only.\n",
      "  diag = pd.concat((bact_diag,virus_diag),0)\n"
     ]
    }
   ],
   "source": [
    "bact_diag =  pd.read_csv(\"pn_bact/sofa_diagnoses.csv\", index_col=0)\n",
    "bact_diag[\"label\"] = \"no\"\n",
    "virus_diag =  pd.read_csv(\"pn_virus/sofa_diagnoses.csv\", index_col=0)\n",
    "virus_diag[\"label\"] = \"yes\"\n",
    "diag = pd.concat((bact_diag,virus_diag),0)"
   ]
  },
  {
   "cell_type": "code",
   "execution_count": 60,
   "metadata": {},
   "outputs": [],
   "source": [
    "cxr_date = pd.read_csv(\"mimic-iv-cxr-2/mimic-cxr-2.0.0-metadata.csv\",)\n",
    "admission = pd.read_csv(\"mimic-iv-2/hosp/admissions.csv\")\n",
    "\n",
    "admission = pd.merge(admission, diag.loc[:,[\"hadm_id\",\"label\"]].drop_duplicates())\n",
    "admission[\"StartDate\"] = [int(i[0:11].replace(\"-\", \"\")) for i in admission[\"admittime\"]]\n",
    "admission[\"EndDate\"] = [int(i[0:11].replace(\"-\", \"\")) for i in admission[\"dischtime\"]]\n",
    "admission = admission.loc[:,[\"subject_id\", \"hadm_id\", \"StartDate\", \"EndDate\", \"label\"]]\n",
    "cxr_date = pd.merge(cxr_date, diag[[\"subject_id\"]].drop_duplicates())\n",
    "cxr_date = cxr_date.loc[:,[\"subject_id\",\"study_id\",\"StudyDate\"]].drop_duplicates()\n",
    "cxr_hadm = pd.merge(admission, cxr_date)\n",
    "cxr_hadm = cxr_hadm.loc[(cxr_hadm[\"StudyDate\"]-cxr_hadm[\"StartDate\"]>-3) & (cxr_hadm[\"StudyDate\"]-cxr_hadm[\"EndDate\"]<3)]"
   ]
  },
  {
   "cell_type": "code",
   "execution_count": 55,
   "metadata": {},
   "outputs": [],
   "source": [
    "cxrlist = pd.read_csv(\"mimic-iv-cxr-2/cxr-record-list.csv\")\n",
    "report_train = pd.read_csv(\"mimic-iv-cxr-2/mimic_train_impressions.csv\", index_col=0)\n",
    "report_test = pd.read_csv(\"mimic-iv-cxr-2/mimic_test_impressions.csv\",)\n",
    "cxrreport = pd.concat((report_train,report_test),0)\n",
    "cxrreports = pd.merge(cxrlist,cxrreport).drop_duplicates()\n",
    "diag_cxr = pd.merge(cxr_hadm,cxrreport).drop_duplicates()"
   ]
  },
  {
   "cell_type": "code",
   "execution_count": 68,
   "metadata": {},
   "outputs": [],
   "source": [
    "df = diag_cxr\n",
    "train_set = {\n",
    "    \"data\": [{\n",
    "        'paragraphs': [],\n",
    "        'title': \"LungB\"\n",
    "    }],\n",
    "    \"version\": \"LungB\"\n",
    "}\n",
    "train_qa = []\n",
    "im = {\"yes\": False, \"no\": True}\n",
    "\n",
    "df = df.loc[df[\"report\"].isnull()==False, :]\n",
    "for idx in df.index:\n",
    "    \n",
    "    qa = {\n",
    "        'qas': [{\n",
    "            'id': str(df.loc[idx, \"study_id\"]),\n",
    "            'question': \"Is patient's cxr report consistent with viral infection?\",\n",
    "            'is_impossible': im[df.loc[idx, \"label\"]],\n",
    "            'answers': df.loc[idx, \"label\"]\n",
    "        }],\n",
    "        'context': df.loc[idx, \"report\"]\n",
    "    }\n",
    "    train_qa.append(qa)\n",
    "\n",
    "train_set['data'][0][\"paragraphs\"] = train_qa\n",
    "json.dump(train_set, open(\"mimic-iv-cxr-2/train_set.json\", \"w\"))"
   ]
  }
 ],
 "metadata": {
  "kernelspec": {
   "display_name": "Python 3.9.12 ('base': conda)",
   "language": "python",
   "name": "python3"
  },
  "language_info": {
   "codemirror_mode": {
    "name": "ipython",
    "version": 3
   },
   "file_extension": ".py",
   "mimetype": "text/x-python",
   "name": "python",
   "nbconvert_exporter": "python",
   "pygments_lexer": "ipython3",
   "version": "3.9.12"
  },
  "orig_nbformat": 4,
  "vscode": {
   "interpreter": {
    "hash": "bd5a5980a31967086eaababc5338e6a92d5792ba40cc4c910227acd610a4f48f"
   }
  }
 },
 "nbformat": 4,
 "nbformat_minor": 2
}
