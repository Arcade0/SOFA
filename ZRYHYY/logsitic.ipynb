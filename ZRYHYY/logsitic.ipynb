{
 "cells": [
  {
   "cell_type": "code",
   "execution_count": 2,
   "metadata": {},
   "outputs": [],
   "source": [
    "import numpy as np\n",
    "import pandas as pd\n",
    "import json\n",
    "import os\n",
    "import sklearn as sk"
   ]
  },
  {
   "cell_type": "markdown",
   "metadata": {},
   "source": [
    "# 读取"
   ]
  },
  {
   "cell_type": "code",
   "execution_count": 3,
   "metadata": {},
   "outputs": [],
   "source": [
    "BNAcap_393 = pd.read_csv(\"BNACAP 明确病原体-393例-xjy20190721.csv\", header=0,index_col=\"病例入组编号\")\n",
    "BNAcap_954 = pd.read_csv(\"BNACAP-954例（排除结核）纳入病原谱文章分析 分组分析用 加评分.csv\", header=0,index_col=\"病例入组编号\")"
   ]
  },
  {
   "cell_type": "markdown",
   "metadata": {},
   "source": [
    "# 入院信息"
   ]
  },
  {
   "cell_type": "code",
   "execution_count": null,
   "metadata": {},
   "outputs": [],
   "source": [
    "inpatients = json.load(open(\"inpatients.json\", \"r\"))\n",
    "print(inpatients.keys())\n",
    "BNAcap_954[inpatients[\"present_info\"]]"
   ]
  },
  {
   "cell_type": "markdown",
   "metadata": {},
   "source": [
    "# SOFA 分组"
   ]
  },
  {
   "cell_type": "code",
   "execution_count": 30,
   "metadata": {},
   "outputs": [],
   "source": [
    "SOFA_col = [\"PaO2mmHg\", \"血气分析FiO2\",\"Plt109L\",\"TBLIμmolL\",\"呼吸支持方式\",\"氧疗\",\"无创通气\",\"有创通气\",\n",
    "\"收缩压\",\"舒张压\",\"应用1\",\"应用2\",\"血管活性药物\",\"CrμmolL\",\"神经系统症状\"]\n",
    "SOFA_df = BNAcap_954[SOFA_col]"
   ]
  },
  {
   "cell_type": "code",
   "execution_count": null,
   "metadata": {},
   "outputs": [],
   "source": [
    "# 呼吸评分\n",
    "rep_l = {}\n",
    "for i in SOFA_df.index:\n",
    "    \n",
    "    if  SOFA_df.loc[i, \"PaO2mmHg\"] != \" \":\n",
    "        if SOFA_df.loc[i, \"血气分析FiO2\"] != \" \":\n",
    "            ox = float(SOFA_df.loc[i, \"PaO2mmHg\"])/(float(SOFA_df.loc[i, \"血气分析FiO2\"])/100)\n",
    "        else:\n",
    "            ox = float(SOFA_df.loc[i, \"PaO2mmHg\"])/(21/100)\n",
    "\n",
    "        if ox>=400:\n",
    "            cla = 0\n",
    "        elif ox>=300:\n",
    "            cla = 1\n",
    "        elif ox>=200:\n",
    "            cla = 2\n",
    "        elif ox>=100:\n",
    "            cla = 3\n",
    "        else:\n",
    "            cla = 4\n",
    "        \n",
    "        if SOFA_df.loc[i, \"呼吸支持方式\"] != \" \":\n",
    "            if ox >=100:\n",
    "                cla = 3\n",
    "            else:\n",
    "                cla = 4\n",
    "         \n",
    "    else:\n",
    "        if SOFA_df.loc[i, \"呼吸支持方式\"] != \" \":\n",
    "                cla = 3\n",
    "        else:\n",
    "            cla = 0\n",
    "    \n",
    "    rep_l[i] = cla\n",
    "# 循环\n",
    "bp_l = {}\n",
    "for i in SOFA_df.index:\n",
    "    if SOFA_df.loc[i, \"收缩压\"] == \" \" or SOFA_df.loc[i, \"舒张压\"] == \" \":\n",
    "        cla = 0\n",
    "    else:\n",
    "        map = int(SOFA_df.loc[i, \"舒张压\"]) + (int(SOFA_df.loc[i, \"收缩压\"]) - int(SOFA_df.loc[i, \"舒张压\"]))/3\n",
    "        if SOFA_df.loc[i, \"血管活性药物\"] == 1:\n",
    "            cla = 2\n",
    "        else:\n",
    "            if map>=70:\n",
    "                cla = 0\n",
    "            else:\n",
    "                cla = 1\n",
    "    bp_l[i] = cla\n",
    "# 泌尿\n",
    "rena_l = {}\n",
    "for i in SOFA_df.index:\n",
    "    if SOFA_df.loc[i, \"CrμmolL\"] == \" \":\n",
    "        cla = 0\n",
    "    else:\n",
    "        if float(SOFA_df.loc[i, \"CrμmolL\"]) < 110:\n",
    "            cla = 0\n",
    "        elif float(SOFA_df.loc[i, \"CrμmolL\"]) <= 170:\n",
    "            cla = 1\n",
    "        elif float(SOFA_df.loc[i, \"CrμmolL\"]) <= 299:\n",
    "            cla = 2\n",
    "        elif float(SOFA_df.loc[i, \"CrμmolL\"]) <= 440:\n",
    "            cla = 3\n",
    "        else:\n",
    "            cla = 4\n",
    "    rena_l[i] = cla\n",
    "# 肝脏\n",
    "liver_l = {}\n",
    "for i in SOFA_df.index:\n",
    "    if SOFA_df.loc[i, \"TBLIμmolL\"] == \" \":\n",
    "        cla = 0\n",
    "    else:\n",
    "        if float(SOFA_df.loc[i, \"TBLIμmolL\"]) < 20:\n",
    "            cla = 0\n",
    "        elif float(SOFA_df.loc[i, \"TBLIμmolL\"]) <= 32:\n",
    "            cla = 1\n",
    "        elif float(SOFA_df.loc[i, \"TBLIμmolL\"]) <= 101:\n",
    "            cla = 2\n",
    "        elif float(SOFA_df.loc[i, \"TBLIμmolL\"]) <= 204:\n",
    "            cla = 3\n",
    "        else:\n",
    "            cla = 4\n",
    "    liver_l[i] = cla\n",
    "# 凝血\n",
    "plt_l = {}\n",
    "for i in SOFA_df.index:\n",
    "    if SOFA_df.loc[i, \"Plt109L\"] == \" \":\n",
    "        cla = 0\n",
    "    else:\n",
    "        if float(SOFA_df.loc[i, \"Plt109L\"]) >= 150:\n",
    "            cla = 0\n",
    "        elif float(SOFA_df.loc[i, \"Plt109L\"]) > 100:\n",
    "            cla = 1\n",
    "        elif float(SOFA_df.loc[i, \"Plt109L\"]) > 50:\n",
    "            cla = 2\n",
    "        elif float(SOFA_df.loc[i, \"Plt109L\"]) > 20:\n",
    "            cla = 3\n",
    "        else:\n",
    "            cla = 4\n",
    "    plt_l[i] = cla\n",
    "# 凝血\n",
    "mental_l = {}\n",
    "for i in SOFA_df.index:\n",
    "    if SOFA_df.loc[i, \"神经系统症状\"] == \" \":\n",
    "        cla = 0\n",
    "    else:\n",
    "        if SOFA_df.loc[i, \"神经系统症状\"] == 0:\n",
    "            cla = 0\n",
    "        else:\n",
    "            cla = 1\n",
    "    mental_l[i] = cla "
   ]
  },
  {
   "cell_type": "code",
   "execution_count": null,
   "metadata": {},
   "outputs": [],
   "source": [
    "sofa_socre = {}\n",
    "for i in SOFA_df.index:\n",
    "    sofa_socre[i] = rep_l[i] + bp_l[i] + rena_l[i] + liver_l[i] + plt_l[i] + mental_l[i]\n",
    "    print(sofa_socre[i])"
   ]
  },
  {
   "cell_type": "code",
   "execution_count": 31,
   "metadata": {},
   "outputs": [],
   "source": [
    "virus_label = BNAcap_393.loc[:,[\"支原体\",\n",
    "\"支原体培养\",\n",
    "\"甲型流感病毒\",\n",
    "\"腺病毒\",\n",
    "\"偏肺病毒\",\n",
    "\"鼻病毒\",\n",
    "\"呼吸道合胞病毒A型\",\n",
    "\"呼吸道合胞病毒B型\",\n",
    "\"冠状病毒OC43HKU1\",\n",
    "\"冠状病毒229ENL63\",\n",
    "\"副流感病毒1型\",\n",
    "\"副流感病毒2型\",\n",
    "\"副流感病毒3型\",\n",
    "\"副流感病毒4型\",\n",
    "\"乙型流感病毒\",\n",
    "\"博卡病毒\",\n",
    "\"肠道病毒\"]]"
   ]
  }
 ],
 "metadata": {
  "kernelspec": {
   "display_name": "Python 3.9.12 ('base': conda)",
   "language": "python",
   "name": "python3"
  },
  "language_info": {
   "codemirror_mode": {
    "name": "ipython",
    "version": 3
   },
   "file_extension": ".py",
   "mimetype": "text/x-python",
   "name": "python",
   "nbconvert_exporter": "python",
   "pygments_lexer": "ipython3",
   "version": "3.9.12 (main, Jun  1 2022, 11:38:51) \n[GCC 7.5.0]"
  },
  "orig_nbformat": 4,
  "vscode": {
   "interpreter": {
    "hash": "bd5a5980a31967086eaababc5338e6a92d5792ba40cc4c910227acd610a4f48f"
   }
  }
 },
 "nbformat": 4,
 "nbformat_minor": 2
}
