{
 "cells": [
  {
   "cell_type": "code",
   "execution_count": 1,
   "metadata": {},
   "outputs": [],
   "source": [
    "import pandas as pd\n",
    "import numpy as np\n",
    "import re"
   ]
  },
  {
   "cell_type": "markdown",
   "metadata": {},
   "source": [
    "# 选择诊断为肺炎的患者"
   ]
  },
  {
   "cell_type": "code",
   "execution_count": null,
   "metadata": {},
   "outputs": [],
   "source": [
    "diagnoses = pd.read_csv(\"mimic-iv-2/hosp/diagnoses_icd.csv\", header=0)\n",
    "diagnoses_9e = diagnoses.loc[diagnoses[\"icd_code\"].str.match(\"48\\d\"), :]\n",
    "print(diagnoses_9e.shape)\n",
    "diagnoses_10e = diagnoses.loc[diagnoses[\"icd_code\"].str.match(\"J1\\d\"), :]\n",
    "print(diagnoses_10e.shape)\n",
    "diagnoses_pn = pd.concat((diagnoses_9e, diagnoses_10e), 0)\n",
    "diagnoses_pn.to_csv(\"sofa_data/sofa_diagnoses.csv\", header=True, index=True)"
   ]
  },
  {
   "cell_type": "markdown",
   "metadata": {},
   "source": [
    "# 筛选肺炎患者的实验室指标"
   ]
  },
  {
   "cell_type": "code",
   "execution_count": 4,
   "metadata": {},
   "outputs": [],
   "source": [
    "diagnoses_pn = pd.read_csv(\"sofa_data/sofa_diagnoses.csv\", header=0)\n",
    "labevents =  pd.read_csv(\"mimic-iv-2/hosp/labevents.csv\", nrows=100, header=0)\n"
   ]
  },
  {
   "cell_type": "code",
   "execution_count": null,
   "metadata": {},
   "outputs": [],
   "source": [
    "import csv\n",
    "pe_id = set(diagnoses_pn[\"subject_id\"])\n",
    "labevents_pn = []\n",
    "index_set = set(range(1,30**8,10**6))\n",
    "with open('mimic-iv-2/icu/labevents.csv','r') as csvfile:\n",
    "    reader = csv.reader(csvfile)\n",
    "    for i, line in enumerate(reader):\n",
    "        if i > 1:\n",
    "            if int(line[0]) in pe_id:\n",
    "                labevents_pn.append(line)\n",
    "            if i in index_set:\n",
    "                print(i, len(labevents_pn))\n",
    "with open('sofa_data/sofa_labevents.txt','w') as f:\n",
    "    f.write(str(labevents_pn))\n",
    "    f.close()"
   ]
  },
  {
   "cell_type": "markdown",
   "metadata": {},
   "source": [
    "# 筛选ICU患者的检查指标"
   ]
  },
  {
   "cell_type": "code",
   "execution_count": 2,
   "metadata": {},
   "outputs": [],
   "source": [
    "diagnoses_pn = pd.read_csv(\"sofa_data/sofa_diagnoses.csv\", header=0)\n",
    "chartevents = pd.read_csv(\"mimic-iv-2/icu/chartevents.csv\", nrows=100000, header=0)"
   ]
  },
  {
   "cell_type": "code",
   "execution_count": null,
   "metadata": {},
   "outputs": [],
   "source": [
    "pe_id = set(diagnoses_pn[\"subject_id\"])\n",
    "chartevents_pn = []\n",
    "index_set = set(range(1,30**8,10**6))\n",
    "with open('mimic-iv-2/icu/chartevents.csv','r') as csvfile:\n",
    "    reader = csv.reader(csvfile)\n",
    "    for i, line in enumerate(reader):\n",
    "        if line[0] == \"subject_id\":\n",
    "            chartevents_pn.append(line)\n",
    "        else:\n",
    "            if int(line[0]) in pe_id:\n",
    "                chartevents_pn.append(line)\n",
    "            if i in index_set:\n",
    "                print(i, len(chartevents_pn))\n",
    "with open('sofa_data/sofa_chartevents.txt','w') as f:\n",
    "    f.write(str(chartevents_pn))\n",
    "    f.close()"
   ]
  }
 ],
 "metadata": {
  "kernelspec": {
   "display_name": "Python 3.9.12 ('base': conda)",
   "language": "python",
   "name": "python3"
  },
  "language_info": {
   "codemirror_mode": {
    "name": "ipython",
    "version": 3
   },
   "file_extension": ".py",
   "mimetype": "text/x-python",
   "name": "python",
   "nbconvert_exporter": "python",
   "pygments_lexer": "ipython3",
   "version": "3.9.12"
  },
  "orig_nbformat": 4,
  "vscode": {
   "interpreter": {
    "hash": "bd5a5980a31967086eaababc5338e6a92d5792ba40cc4c910227acd610a4f48f"
   }
  }
 },
 "nbformat": 4,
 "nbformat_minor": 2
}
