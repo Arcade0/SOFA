{
 "cells": [
  {
   "cell_type": "code",
   "execution_count": 2,
   "metadata": {},
   "outputs": [],
   "source": [
    "import pandas as pd\n",
    "import numpy as np"
   ]
  },
  {
   "cell_type": "code",
   "execution_count": 5,
   "metadata": {},
   "outputs": [
    {
     "ename": "ValueError",
     "evalue": "Cannot mask with non-boolean array containing NA / NaN values",
     "output_type": "error",
     "traceback": [
      "\u001b[0;31m---------------------------------------------------------------------------\u001b[0m",
      "\u001b[0;31mValueError\u001b[0m                                Traceback (most recent call last)",
      "\u001b[1;32m/home/data/t070224/SOFA/eICU/data_extract.ipynb 单元格 2\u001b[0m in \u001b[0;36m<cell line: 3>\u001b[0;34m()\u001b[0m\n\u001b[1;32m      <a href='vscode-notebook-cell://ssh-remote%2Bbiotrainee.vip/home/data/t070224/SOFA/eICU/data_extract.ipynb#W1sdnNjb2RlLXJlbW90ZQ%3D%3D?line=0'>1</a>\u001b[0m \u001b[39m# 细菌并且去除病毒感染的\u001b[39;00m\n\u001b[1;32m      <a href='vscode-notebook-cell://ssh-remote%2Bbiotrainee.vip/home/data/t070224/SOFA/eICU/data_extract.ipynb#W1sdnNjb2RlLXJlbW90ZQ%3D%3D?line=1'>2</a>\u001b[0m diagnoses \u001b[39m=\u001b[39m pd\u001b[39m.\u001b[39mread_csv(\u001b[39m\"\u001b[39m\u001b[39mdata/diagnosis.csv\u001b[39m\u001b[39m\"\u001b[39m, header\u001b[39m=\u001b[39m\u001b[39m0\u001b[39m)\n\u001b[0;32m----> <a href='vscode-notebook-cell://ssh-remote%2Bbiotrainee.vip/home/data/t070224/SOFA/eICU/data_extract.ipynb#W1sdnNjb2RlLXJlbW90ZQ%3D%3D?line=2'>3</a>\u001b[0m diagnoses_9e \u001b[39m=\u001b[39m diagnoses\u001b[39m.\u001b[39;49mloc[diagnoses[\u001b[39m\"\u001b[39;49m\u001b[39micd9code\u001b[39;49m\u001b[39m\"\u001b[39;49m]\u001b[39m.\u001b[39;49mstr\u001b[39m.\u001b[39;49mmatch(\u001b[39m\"\u001b[39;49m\u001b[39m48[1,2,3]\u001b[39;49m\u001b[39m\\\u001b[39;49m\u001b[39md\u001b[39;49m\u001b[39m\"\u001b[39;49m), :]\n\u001b[1;32m      <a href='vscode-notebook-cell://ssh-remote%2Bbiotrainee.vip/home/data/t070224/SOFA/eICU/data_extract.ipynb#W1sdnNjb2RlLXJlbW90ZQ%3D%3D?line=3'>4</a>\u001b[0m \u001b[39mprint\u001b[39m(diagnoses_9e\u001b[39m.\u001b[39mshape)\n\u001b[1;32m      <a href='vscode-notebook-cell://ssh-remote%2Bbiotrainee.vip/home/data/t070224/SOFA/eICU/data_extract.ipynb#W1sdnNjb2RlLXJlbW90ZQ%3D%3D?line=4'>5</a>\u001b[0m diagnoses_10e \u001b[39m=\u001b[39m diagnoses\u001b[39m.\u001b[39mloc[diagnoses[\u001b[39m\"\u001b[39m\u001b[39micd9code\u001b[39m\u001b[39m\"\u001b[39m]\u001b[39m.\u001b[39mstr\u001b[39m.\u001b[39mmatch(\u001b[39m\"\u001b[39m\u001b[39mJ1[3,4,5]\u001b[39m\u001b[39m\\\u001b[39m\u001b[39md\u001b[39m\u001b[39m\"\u001b[39m), :]\n",
      "File \u001b[0;32m~/miniconda3/lib/python3.9/site-packages/pandas/core/indexing.py:961\u001b[0m, in \u001b[0;36m_LocationIndexer.__getitem__\u001b[0;34m(self, key)\u001b[0m\n\u001b[1;32m    959\u001b[0m     \u001b[39mif\u001b[39;00m \u001b[39mself\u001b[39m\u001b[39m.\u001b[39m_is_scalar_access(key):\n\u001b[1;32m    960\u001b[0m         \u001b[39mreturn\u001b[39;00m \u001b[39mself\u001b[39m\u001b[39m.\u001b[39mobj\u001b[39m.\u001b[39m_get_value(\u001b[39m*\u001b[39mkey, takeable\u001b[39m=\u001b[39m\u001b[39mself\u001b[39m\u001b[39m.\u001b[39m_takeable)\n\u001b[0;32m--> 961\u001b[0m     \u001b[39mreturn\u001b[39;00m \u001b[39mself\u001b[39;49m\u001b[39m.\u001b[39;49m_getitem_tuple(key)\n\u001b[1;32m    962\u001b[0m \u001b[39melse\u001b[39;00m:\n\u001b[1;32m    963\u001b[0m     \u001b[39m# we by definition only have the 0th axis\u001b[39;00m\n\u001b[1;32m    964\u001b[0m     axis \u001b[39m=\u001b[39m \u001b[39mself\u001b[39m\u001b[39m.\u001b[39maxis \u001b[39mor\u001b[39;00m \u001b[39m0\u001b[39m\n",
      "File \u001b[0;32m~/miniconda3/lib/python3.9/site-packages/pandas/core/indexing.py:1149\u001b[0m, in \u001b[0;36m_LocIndexer._getitem_tuple\u001b[0;34m(self, tup)\u001b[0m\n\u001b[1;32m   1146\u001b[0m \u001b[39mif\u001b[39;00m \u001b[39mself\u001b[39m\u001b[39m.\u001b[39m_multi_take_opportunity(tup):\n\u001b[1;32m   1147\u001b[0m     \u001b[39mreturn\u001b[39;00m \u001b[39mself\u001b[39m\u001b[39m.\u001b[39m_multi_take(tup)\n\u001b[0;32m-> 1149\u001b[0m \u001b[39mreturn\u001b[39;00m \u001b[39mself\u001b[39;49m\u001b[39m.\u001b[39;49m_getitem_tuple_same_dim(tup)\n",
      "File \u001b[0;32m~/miniconda3/lib/python3.9/site-packages/pandas/core/indexing.py:827\u001b[0m, in \u001b[0;36m_LocationIndexer._getitem_tuple_same_dim\u001b[0;34m(self, tup)\u001b[0m\n\u001b[1;32m    824\u001b[0m \u001b[39mif\u001b[39;00m com\u001b[39m.\u001b[39mis_null_slice(key):\n\u001b[1;32m    825\u001b[0m     \u001b[39mcontinue\u001b[39;00m\n\u001b[0;32m--> 827\u001b[0m retval \u001b[39m=\u001b[39m \u001b[39mgetattr\u001b[39;49m(retval, \u001b[39mself\u001b[39;49m\u001b[39m.\u001b[39;49mname)\u001b[39m.\u001b[39;49m_getitem_axis(key, axis\u001b[39m=\u001b[39;49mi)\n\u001b[1;32m    828\u001b[0m \u001b[39m# We should never have retval.ndim < self.ndim, as that should\u001b[39;00m\n\u001b[1;32m    829\u001b[0m \u001b[39m#  be handled by the _getitem_lowerdim call above.\u001b[39;00m\n\u001b[1;32m    830\u001b[0m \u001b[39massert\u001b[39;00m retval\u001b[39m.\u001b[39mndim \u001b[39m==\u001b[39m \u001b[39mself\u001b[39m\u001b[39m.\u001b[39mndim\n",
      "File \u001b[0;32m~/miniconda3/lib/python3.9/site-packages/pandas/core/indexing.py:1181\u001b[0m, in \u001b[0;36m_LocIndexer._getitem_axis\u001b[0;34m(self, key, axis)\u001b[0m\n\u001b[1;32m   1179\u001b[0m     \u001b[39mself\u001b[39m\u001b[39m.\u001b[39m_validate_key(key, axis)\n\u001b[1;32m   1180\u001b[0m     \u001b[39mreturn\u001b[39;00m \u001b[39mself\u001b[39m\u001b[39m.\u001b[39m_get_slice_axis(key, axis\u001b[39m=\u001b[39maxis)\n\u001b[0;32m-> 1181\u001b[0m \u001b[39melif\u001b[39;00m com\u001b[39m.\u001b[39;49mis_bool_indexer(key):\n\u001b[1;32m   1182\u001b[0m     \u001b[39mreturn\u001b[39;00m \u001b[39mself\u001b[39m\u001b[39m.\u001b[39m_getbool_axis(key, axis\u001b[39m=\u001b[39maxis)\n\u001b[1;32m   1183\u001b[0m \u001b[39melif\u001b[39;00m is_list_like_indexer(key):\n\u001b[1;32m   1184\u001b[0m \n\u001b[1;32m   1185\u001b[0m     \u001b[39m# an iterable multi-selection\u001b[39;00m\n",
      "File \u001b[0;32m~/miniconda3/lib/python3.9/site-packages/pandas/core/common.py:144\u001b[0m, in \u001b[0;36mis_bool_indexer\u001b[0;34m(key)\u001b[0m\n\u001b[1;32m    140\u001b[0m     na_msg \u001b[39m=\u001b[39m \u001b[39m\"\u001b[39m\u001b[39mCannot mask with non-boolean array containing NA / NaN values\u001b[39m\u001b[39m\"\u001b[39m\n\u001b[1;32m    141\u001b[0m     \u001b[39mif\u001b[39;00m lib\u001b[39m.\u001b[39minfer_dtype(key) \u001b[39m==\u001b[39m \u001b[39m\"\u001b[39m\u001b[39mboolean\u001b[39m\u001b[39m\"\u001b[39m \u001b[39mand\u001b[39;00m isna(key)\u001b[39m.\u001b[39many():\n\u001b[1;32m    142\u001b[0m         \u001b[39m# Don't raise on e.g. [\"A\", \"B\", np.nan], see\u001b[39;00m\n\u001b[1;32m    143\u001b[0m         \u001b[39m#  test_loc_getitem_list_of_labels_categoricalindex_with_na\u001b[39;00m\n\u001b[0;32m--> 144\u001b[0m         \u001b[39mraise\u001b[39;00m \u001b[39mValueError\u001b[39;00m(na_msg)\n\u001b[1;32m    145\u001b[0m     \u001b[39mreturn\u001b[39;00m \u001b[39mFalse\u001b[39;00m\n\u001b[1;32m    146\u001b[0m \u001b[39mreturn\u001b[39;00m \u001b[39mTrue\u001b[39;00m\n",
      "\u001b[0;31mValueError\u001b[0m: Cannot mask with non-boolean array containing NA / NaN values"
     ]
    }
   ],
   "source": [
    "# 细菌并且去除病毒感染的\n",
    "diagnoses = pd.read_csv(\"data/diagnosis.csv\", header=0)\n",
    "diagnoses_9e = diagnoses.loc[diagnoses[\"icd9code\"].str.match(\"48[1,2,3]\\d\"), :]\n",
    "print(diagnoses_9e.shape)\n",
    "diagnoses_10e = diagnoses.loc[diagnoses[\"icd9code\"].str.match(\"J1[3,4,5]\\d\"), :]\n",
    "print(diagnoses_10e.shape)\n",
    "diagnoses_pn = pd.concat((diagnoses_9e, diagnoses_10e),0)\n",
    "# diagnoses_pn.to_csv(\"pn_bact/sofa_initial_diagnoses.csv\", header=True, index=True)"
   ]
  },
  {
   "cell_type": "code",
   "execution_count": 4,
   "metadata": {},
   "outputs": [
    {
     "data": {
      "text/html": [
       "<div>\n",
       "<style scoped>\n",
       "    .dataframe tbody tr th:only-of-type {\n",
       "        vertical-align: middle;\n",
       "    }\n",
       "\n",
       "    .dataframe tbody tr th {\n",
       "        vertical-align: top;\n",
       "    }\n",
       "\n",
       "    .dataframe thead th {\n",
       "        text-align: right;\n",
       "    }\n",
       "</style>\n",
       "<table border=\"1\" class=\"dataframe\">\n",
       "  <thead>\n",
       "    <tr style=\"text-align: right;\">\n",
       "      <th></th>\n",
       "      <th>diagnosisid</th>\n",
       "      <th>patientunitstayid</th>\n",
       "      <th>activeupondischarge</th>\n",
       "      <th>diagnosisoffset</th>\n",
       "      <th>diagnosisstring</th>\n",
       "      <th>icd9code</th>\n",
       "      <th>diagnosispriority</th>\n",
       "    </tr>\n",
       "  </thead>\n",
       "  <tbody>\n",
       "    <tr>\n",
       "      <th>0</th>\n",
       "      <td>4222318</td>\n",
       "      <td>141168</td>\n",
       "      <td>False</td>\n",
       "      <td>72</td>\n",
       "      <td>cardiovascular|chest pain / ASHD|coronary arte...</td>\n",
       "      <td>414.00, I25.10</td>\n",
       "      <td>Other</td>\n",
       "    </tr>\n",
       "    <tr>\n",
       "      <th>1</th>\n",
       "      <td>3370568</td>\n",
       "      <td>141168</td>\n",
       "      <td>True</td>\n",
       "      <td>118</td>\n",
       "      <td>cardiovascular|ventricular disorders|cardiomyo...</td>\n",
       "      <td>NaN</td>\n",
       "      <td>Other</td>\n",
       "    </tr>\n",
       "    <tr>\n",
       "      <th>2</th>\n",
       "      <td>4160941</td>\n",
       "      <td>141168</td>\n",
       "      <td>False</td>\n",
       "      <td>72</td>\n",
       "      <td>pulmonary|disorders of the airways|COPD</td>\n",
       "      <td>491.20, J44.9</td>\n",
       "      <td>Other</td>\n",
       "    </tr>\n",
       "    <tr>\n",
       "      <th>3</th>\n",
       "      <td>4103261</td>\n",
       "      <td>141168</td>\n",
       "      <td>True</td>\n",
       "      <td>118</td>\n",
       "      <td>pulmonary|disorders of the airways|COPD</td>\n",
       "      <td>491.20, J44.9</td>\n",
       "      <td>Other</td>\n",
       "    </tr>\n",
       "    <tr>\n",
       "      <th>4</th>\n",
       "      <td>3545241</td>\n",
       "      <td>141168</td>\n",
       "      <td>True</td>\n",
       "      <td>118</td>\n",
       "      <td>cardiovascular|ventricular disorders|congestiv...</td>\n",
       "      <td>428.0, I50.9</td>\n",
       "      <td>Other</td>\n",
       "    </tr>\n",
       "    <tr>\n",
       "      <th>...</th>\n",
       "      <td>...</td>\n",
       "      <td>...</td>\n",
       "      <td>...</td>\n",
       "      <td>...</td>\n",
       "      <td>...</td>\n",
       "      <td>...</td>\n",
       "      <td>...</td>\n",
       "    </tr>\n",
       "    <tr>\n",
       "      <th>2710667</th>\n",
       "      <td>46330138</td>\n",
       "      <td>3353251</td>\n",
       "      <td>False</td>\n",
       "      <td>11304</td>\n",
       "      <td>renal|disorder of urinary tract / renal system...</td>\n",
       "      <td>599.0, N39.0</td>\n",
       "      <td>Other</td>\n",
       "    </tr>\n",
       "    <tr>\n",
       "      <th>2710668</th>\n",
       "      <td>46150971</td>\n",
       "      <td>3353251</td>\n",
       "      <td>False</td>\n",
       "      <td>4080</td>\n",
       "      <td>cardiovascular|shock / hypotension|sepsis</td>\n",
       "      <td>038.9, A41.9</td>\n",
       "      <td>Major</td>\n",
       "    </tr>\n",
       "    <tr>\n",
       "      <th>2710669</th>\n",
       "      <td>46259796</td>\n",
       "      <td>3353254</td>\n",
       "      <td>True</td>\n",
       "      <td>41</td>\n",
       "      <td>renal|disorder of kidney|acute renal failure|d...</td>\n",
       "      <td>584.9, N17.9</td>\n",
       "      <td>Major</td>\n",
       "    </tr>\n",
       "    <tr>\n",
       "      <th>2710670</th>\n",
       "      <td>46204273</td>\n",
       "      <td>3353254</td>\n",
       "      <td>True</td>\n",
       "      <td>41</td>\n",
       "      <td>gastrointestinal|GI bleeding / PUD|lower GI bl...</td>\n",
       "      <td>578.9, K92.2</td>\n",
       "      <td>Primary</td>\n",
       "    </tr>\n",
       "    <tr>\n",
       "      <th>2710671</th>\n",
       "      <td>46335124</td>\n",
       "      <td>3353263</td>\n",
       "      <td>True</td>\n",
       "      <td>100</td>\n",
       "      <td>pulmonary|disorders of vasculature|pulmonary e...</td>\n",
       "      <td>415.19, I26.99</td>\n",
       "      <td>Other</td>\n",
       "    </tr>\n",
       "  </tbody>\n",
       "</table>\n",
       "<p>2710672 rows × 7 columns</p>\n",
       "</div>"
      ],
      "text/plain": [
       "         diagnosisid  patientunitstayid  activeupondischarge  diagnosisoffset  \\\n",
       "0            4222318             141168                False               72   \n",
       "1            3370568             141168                 True              118   \n",
       "2            4160941             141168                False               72   \n",
       "3            4103261             141168                 True              118   \n",
       "4            3545241             141168                 True              118   \n",
       "...              ...                ...                  ...              ...   \n",
       "2710667     46330138            3353251                False            11304   \n",
       "2710668     46150971            3353251                False             4080   \n",
       "2710669     46259796            3353254                 True               41   \n",
       "2710670     46204273            3353254                 True               41   \n",
       "2710671     46335124            3353263                 True              100   \n",
       "\n",
       "                                           diagnosisstring        icd9code  \\\n",
       "0        cardiovascular|chest pain / ASHD|coronary arte...  414.00, I25.10   \n",
       "1        cardiovascular|ventricular disorders|cardiomyo...             NaN   \n",
       "2                  pulmonary|disorders of the airways|COPD   491.20, J44.9   \n",
       "3                  pulmonary|disorders of the airways|COPD   491.20, J44.9   \n",
       "4        cardiovascular|ventricular disorders|congestiv...    428.0, I50.9   \n",
       "...                                                    ...             ...   \n",
       "2710667  renal|disorder of urinary tract / renal system...    599.0, N39.0   \n",
       "2710668          cardiovascular|shock / hypotension|sepsis    038.9, A41.9   \n",
       "2710669  renal|disorder of kidney|acute renal failure|d...    584.9, N17.9   \n",
       "2710670  gastrointestinal|GI bleeding / PUD|lower GI bl...    578.9, K92.2   \n",
       "2710671  pulmonary|disorders of vasculature|pulmonary e...  415.19, I26.99   \n",
       "\n",
       "        diagnosispriority  \n",
       "0                   Other  \n",
       "1                   Other  \n",
       "2                   Other  \n",
       "3                   Other  \n",
       "4                   Other  \n",
       "...                   ...  \n",
       "2710667             Other  \n",
       "2710668             Major  \n",
       "2710669             Major  \n",
       "2710670           Primary  \n",
       "2710671             Other  \n",
       "\n",
       "[2710672 rows x 7 columns]"
      ]
     },
     "execution_count": 4,
     "metadata": {},
     "output_type": "execute_result"
    }
   ],
   "source": [
    "diagnoses"
   ]
  },
  {
   "cell_type": "code",
   "execution_count": null,
   "metadata": {},
   "outputs": [],
   "source": [
    "endstay = pd.read_csv(\"data/endstay.csv\", header=0)\n"
   ]
  },
  {
   "cell_type": "code",
   "execution_count": 10,
   "metadata": {},
   "outputs": [],
   "source": [
    "a = diagnoses.loc[diagnoses[\"diagnosisstring\"].str.contains(\"pneumonia\")]"
   ]
  },
  {
   "cell_type": "code",
   "execution_count": 31,
   "metadata": {},
   "outputs": [],
   "source": [
    "b = pd.DataFrame(a[[\"diagnosisstring\",\"icd9code\"]].value_counts())\n",
    "b.to_excel(\"output/diagnosis.xlsx\")"
   ]
  },
  {
   "cell_type": "code",
   "execution_count": 37,
   "metadata": {},
   "outputs": [
    {
     "data": {
      "text/plain": [
       "235"
      ]
     },
     "execution_count": 37,
     "metadata": {},
     "output_type": "execute_result"
    }
   ],
   "source": [
    "len(set(a.loc[a[\"diagnosisstring\"].str.contains(\"vira\")][\"patientunitstayid\"]))"
   ]
  },
  {
   "cell_type": "code",
   "execution_count": 18,
   "metadata": {},
   "outputs": [
    {
     "data": {
      "text/plain": [
       "20677"
      ]
     },
     "execution_count": 18,
     "metadata": {},
     "output_type": "execute_result"
    }
   ],
   "source": [
    "len(set(a[\"patientunitstayid\"]))"
   ]
  },
  {
   "cell_type": "code",
   "execution_count": 38,
   "metadata": {},
   "outputs": [
    {
     "data": {
      "text/plain": [
       "173109"
      ]
     },
     "execution_count": 38,
     "metadata": {},
     "output_type": "execute_result"
    }
   ],
   "source": [
    "len(set(diagnoses[\"patientunitstayid\"]))"
   ]
  },
  {
   "cell_type": "code",
   "execution_count": null,
   "metadata": {},
   "outputs": [],
   "source": []
  }
 ],
 "metadata": {
  "kernelspec": {
   "display_name": "Python 3.9.12 ('base': conda)",
   "language": "python",
   "name": "python3"
  },
  "language_info": {
   "codemirror_mode": {
    "name": "ipython",
    "version": 3
   },
   "file_extension": ".py",
   "mimetype": "text/x-python",
   "name": "python",
   "nbconvert_exporter": "python",
   "pygments_lexer": "ipython3",
   "version": "3.9.12"
  },
  "orig_nbformat": 4,
  "vscode": {
   "interpreter": {
    "hash": "bd5a5980a31967086eaababc5338e6a92d5792ba40cc4c910227acd610a4f48f"
   }
  }
 },
 "nbformat": 4,
 "nbformat_minor": 2
}
