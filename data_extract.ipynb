{
 "cells": [
  {
   "cell_type": "code",
   "execution_count": 4,
   "metadata": {},
   "outputs": [],
   "source": [
    "import pandas as pd\n",
    "import numpy as np\n",
    "import lr\n",
    "def fillna_mean(df):\n",
    "    for column in list(df.columns[df.isnull().sum() > 0]):\n",
    "        mean_val = df[column].mean()\n",
    "        df[column].fillna(mean_val, inplace=True)\n",
    "    return df"
   ]
  },
  {
   "attachments": {},
   "cell_type": "markdown",
   "metadata": {},
   "source": [
    "# 读取数据\n"
   ]
  },
  {
   "attachments": {},
   "cell_type": "markdown",
   "metadata": {},
   "source": [
    "## 选出对应患者24h内的数据"
   ]
  },
  {
   "cell_type": "code",
   "execution_count": 24,
   "metadata": {},
   "outputs": [],
   "source": [
    "# cxr = pd.read_csv(\"mimic-iv-cxr-2/train_set.csv\", index_col=0)\n",
    "# admission = pd.read_csv(\"mimic-iv-2/hosp/admissions.csv\", header=0)\n",
    "# admission = pd.merge(admission, cxr[[\"subject_id\", \"hadm_id\", \"label\"]])\n",
    "# admission[\"first_day\"] = [i[0:11].replace(\"-\",\"\") for i in admission[\"admittime\"]]\n",
    "# lab = pd.read_csv(\"mimic-iv-2/hosp/labevents.csv\")\n",
    "# lab_d = pd.merge(admission[[\"subject_id\", \"first_day\"]], lab)\n",
    "# lab_d[\"time\"] = [i[0:11].replace(\"-\",\"\") for i in lab_d[\"charttime\"]]\n",
    "# lab_d[\"hadm_id\"] = lab_d[\"hadm_id\"].fillna(0)\n",
    "# lab_d[\"hadm_id\"] =[int(i) for i in lab_d[\"hadm_id\"]]\n",
    "# lab_d[\"time_re\"] = lab_d[\"first_day\"].astype(int) - lab_d[\"time\"].astype(int) \n",
    "# lab_d = lab_d.loc[(lab_d[\"time_re\"]>=-1) & (lab_d[\"time_re\"]<=1)] # 入院时间和检测时间相差1天内的\n",
    "# lab_d.to_csv(\"predict_model/labevents.csv\")"
   ]
  },
  {
   "cell_type": "code",
   "execution_count": 5,
   "metadata": {},
   "outputs": [],
   "source": [
    "# 选出患者足够量的数据\n",
    "lab_d = pd.read_csv(\"predict_model/labevents.csv\", index_col=0)\n",
    "# a = lab_d[['subject_id','hadm_id',\"time_re\"]].groupby([\"subject_id\",\"hadm_id\"]).agg(\"max\").reset_index()\n",
    "lab_d = lab_d.loc[(lab_d[\"time_re\"]==0)] # 入院时间和检测时间相差1天内的\n",
    "lab_dd = lab_d[['subject_id','hadm_id','itemid', 'time', 'valuenum']]\n",
    "lab_dd = lab_dd.loc[~lab_dd[\"valuenum\"].isnull()].drop_duplicates()\n",
    "effect_item = lab_dd[\"itemid\"].value_counts()[lab_dd[\"itemid\"].value_counts() > 1000]\n",
    "lab_dd = lab_dd.loc[lab_dd[\"itemid\"].isin(effect_item.index)]\n",
    "lab_dd = lab_dd.groupby([\"subject_id\",\"hadm_id\",\"time\",\"itemid\"]).agg('mean')\n",
    "lab_dd = lab_dd.reset_index()\n",
    "lab_dd[\"index\"] = lab_dd[\"subject_id\"].astype(str) + \"_\" + lab_dd[\"time\"].astype(str)\n",
    "lab_dd = lab_dd.pivot(index=[\"subject_id\",\"hadm_id\", \"time\"],columns='itemid',values=\"valuenum\").reset_index()\n",
    "d_lab = pd.read_csv(\"mimic-iv-2/hosp/d_labitems.csv\")\n",
    "new_idx  = list(lab_dd.columns[0:3])\n",
    "new_idx.extend([d_lab.loc[d_lab[\"itemid\"]==i,\"label\"].iloc[0] for i in lab_dd.columns[3:]])\n",
    "lab_dd.columns = new_idx\n",
    "# 添加CXR数据\n",
    "cxr = pd.read_csv(\"mimic-iv-cxr-2/prediction_10fold.csv\")\n",
    "cxr.columns =['study_id', 'prediction', 'rate', 'cut'] \n",
    "cxr_train = pd.read_csv(\"mimic-iv-cxr-2/train_set.csv\", index_col=0)\n",
    "cxr_prediction = pd.merge(cxr_train,cxr)\n",
    "full_df = pd.merge(lab_dd, cxr_prediction[[\"subject_id\",\"label\"]])\n",
    "full_df.columns = [i.replace(\" \", \"_\").replace(\"(\",\"_\").replace(\")\",\"_\").replace(\",\",\"_\")  for i in full_df.columns]"
   ]
  },
  {
   "attachments": {},
   "cell_type": "markdown",
   "metadata": {},
   "source": [
    "## LR模型"
   ]
  },
  {
   "cell_type": "code",
   "execution_count": 6,
   "metadata": {},
   "outputs": [],
   "source": [
    "a = [\n",
    "    'Base_Excess', 'Calculated_Total_CO2',\n",
    "    'Lactate', 'pCO2', 'pH', 'pO2', 'Anion_Gap', 'Bicarbonate',\n",
    "    'Calcium__Total', 'Chloride', 'Creatinine', 'Glucose', 'Magnesium',\n",
    "    'Phosphate', 'Potassium', 'Sodium', 'Urea_Nitrogen', 'Basophils',\n",
    "    'Eosinophils', 'Hematocrit', 'Hemoglobin', 'INR_PT_', 'Lymphocytes',\n",
    "    'MCH', 'MCHC', 'MCV', 'Monocytes', 'Neutrophils', 'Platelet_Count',\n",
    "    'PT', 'PTT', 'RDW', 'Red_Blood_Cells', 'White_Blood_Cells', 'pH',\n",
    "    'Specific_Gravity',]"
   ]
  },
  {
   "attachments": {},
   "cell_type": "markdown",
   "metadata": {},
   "source": [
    "### stats.model的lr用于feature selection\n"
   ]
  },
  {
   "cell_type": "code",
   "execution_count": 9,
   "metadata": {},
   "outputs": [
    {
     "name": "stderr",
     "output_type": "stream",
     "text": [
      "/tmp/ipykernel_4141901/2086305229.py:4: DeprecationWarning: `np.float` is a deprecated alias for the builtin `float`. To silence this warning, use `float` by itself. Doing this will not modify any behavior and is safe. If you specifically wanted the numpy scalar type, use `np.float64` here.\n",
      "Deprecated in NumPy 1.20; for more details and guidance: https://numpy.org/devdocs/release/1.20.0-notes.html#deprecations\n",
      "  file[\"label\"]=np.array(file[\"label\"],dtype=np.float)\n"
     ]
    },
    {
     "name": "stdout",
     "output_type": "stream",
     "text": [
      "Warning: Maximum number of iterations has been exceeded.\n",
      "         Current function value: 0.123647\n",
      "         Iterations: 35\n",
      "         Function evaluations: 46\n",
      "         Gradient evaluations: 46\n",
      "1.459627186898162e+02\n",
      "                           Logit Regression Results                           \n",
      "==============================================================================\n",
      "Dep. Variable:                  label   No. Observations:                  291\n",
      "Model:                          Logit   Df Residuals:                      254\n",
      "Method:                           MLE   Df Model:                           36\n",
      "Date:                Mon, 26 Dec 2022   Pseudo R-squ.:                  0.7004\n",
      "Time:                        10:18:37   Log-Likelihood:                -35.981\n",
      "converged:                      False   LL-Null:                       -120.11\n",
      "Covariance Type:            nonrobust   LLR p-value:                 5.409e-19\n",
      "========================================================================================\n",
      "                           coef    std err          z      P>|z|      [0.025      0.975]\n",
      "----------------------------------------------------------------------------------------\n",
      "Intercept                0.0621    308.067      0.000      1.000    -603.737     603.862\n",
      "Base_Excess              0.5495      0.861      0.638      0.523      -1.138       2.237\n",
      "Calculated_Total_CO2     0.9079      0.858      1.058      0.290      -0.774       2.589\n",
      "Lactate                  1.0706      0.614      1.744      0.081      -0.133       2.274\n",
      "pCO2                    -0.1905      0.270     -0.704      0.481      -0.721       0.340\n",
      "pH[0]                    0.4741     29.529      0.016      0.987     -57.401      58.349\n",
      "pH[1]                   -0.6732      0.988     -0.682      0.495      -2.609       1.262\n",
      "pO2                     -0.0056      0.009     -0.651      0.515      -0.022       0.011\n",
      "Anion_Gap               -0.1708      2.499     -0.068      0.946      -5.069       4.727\n",
      "Bicarbonate             -0.7809      2.450     -0.319      0.750      -5.583       4.021\n",
      "Calcium__Total          -1.0108      0.918     -1.101      0.271      -2.811       0.789\n",
      "Chloride                 0.5524      2.570      0.215      0.830      -4.484       5.589\n",
      "Creatinine               1.9496      0.685      2.847      0.004       0.608       3.292\n",
      "Glucose                 -0.0206      0.013     -1.578      0.115      -0.046       0.005\n",
      "Magnesium                0.2292      2.320      0.099      0.921      -4.319       4.777\n",
      "Phosphate                0.8578      0.902      0.951      0.342      -0.910       2.626\n",
      "Potassium                0.3599      3.112      0.116      0.908      -5.739       6.458\n",
      "Sodium                  -0.8964      2.513     -0.357      0.721      -5.822       4.029\n",
      "Urea_Nitrogen           -0.0638      0.048     -1.331      0.183      -0.158       0.030\n",
      "Basophils                1.0476      2.759      0.380      0.704      -4.359       6.454\n",
      "Eosinophils              0.7091      0.673      1.054      0.292      -0.610       2.028\n",
      "Hematocrit               0.0703      1.977      0.036      0.972      -3.804       3.945\n",
      "Hemoglobin              -0.4403      5.044     -0.087      0.930     -10.326       9.446\n",
      "INR_PT_                 -0.0206      7.217     -0.003      0.998     -14.166      14.125\n",
      "Lymphocytes              0.3792      0.278      1.364      0.173      -0.166       0.924\n",
      "MCH                     -0.9145      3.752     -0.244      0.807      -8.267       6.438\n",
      "MCHC                     0.4177      4.269      0.098      0.922      -7.949       8.784\n",
      "MCV                      0.5858      1.363      0.430      0.667      -2.086       3.257\n",
      "Monocytes                0.4210      0.279      1.507      0.132      -0.126       0.969\n",
      "Neutrophils              0.3388      0.246      1.377      0.169      -0.143       0.821\n",
      "Platelet_Count           0.0135      0.008      1.779      0.075      -0.001       0.028\n",
      "PT                       0.2372      0.683      0.347      0.729      -1.102       1.577\n",
      "PTT                     -0.3815      0.134     -2.843      0.004      -0.645      -0.118\n",
      "RDW                      0.3078      0.289      1.066      0.286      -0.258       0.874\n",
      "Red_Blood_Cells         -0.0708     13.575     -0.005      0.996     -26.677      26.535\n",
      "White_Blood_Cells        0.1291      0.054      2.411      0.016       0.024       0.234\n",
      "Specific_Gravity         0.0469     68.756      0.001      0.999    -134.713     134.807\n",
      "========================================================================================\n",
      "\n",
      "Possibly complete quasi-separation: A fraction 0.31 of observations can be\n",
      "perfectly predicted. This might indicate that there is complete\n",
      "quasi-separation. In this case some parameters will not be identified.\n"
     ]
    },
    {
     "name": "stderr",
     "output_type": "stream",
     "text": [
      "/home/data/t070224/miniconda3/lib/python3.9/site-packages/statsmodels/discrete/discrete_model.py:1819: RuntimeWarning: overflow encountered in exp\n",
      "  return 1/(1+np.exp(-X))\n",
      "/home/data/t070224/miniconda3/lib/python3.9/site-packages/statsmodels/base/model.py:604: ConvergenceWarning: Maximum Likelihood optimization failed to converge. Check mle_retvals\n",
      "  warnings.warn(\"Maximum Likelihood optimization failed to \"\n"
     ]
    },
    {
     "data": {
      "text/plain": [
       "(<statsmodels.discrete.discrete_model.BinaryResultsWrapper at 0x7ffb5a4d89d0>,\n",
       " <class 'statsmodels.iolib.table.SimpleTable'>)"
      ]
     },
     "execution_count": 9,
     "metadata": {},
     "output_type": "execute_result"
    }
   ],
   "source": [
    "file = full_df\n",
    "file.loc[file[\"label\"]==\"yes\", \"label\"] = int(1)\n",
    "file.loc[file[\"label\"]==\"no\", \"label\"] = int(0)\n",
    "file[\"label\"]=np.array(file[\"label\"],dtype=np.float)\n",
    "lr.sm_lr(file, a)"
   ]
  },
  {
   "attachments": {},
   "cell_type": "markdown",
   "metadata": {},
   "source": [
    "### 获取AUC"
   ]
  },
  {
   "cell_type": "code",
   "execution_count": null,
   "metadata": {},
   "outputs": [],
   "source": [
    "label_l, prepro_l = lr.sk_lr(file, a, [])\n",
    "lr.auc(label_l, prepro_l)"
   ]
  }
 ],
 "metadata": {
  "kernelspec": {
   "display_name": "Python 3.9.12 ('base': conda)",
   "language": "python",
   "name": "python3"
  },
  "language_info": {
   "codemirror_mode": {
    "name": "ipython",
    "version": 3
   },
   "file_extension": ".py",
   "mimetype": "text/x-python",
   "name": "python",
   "nbconvert_exporter": "python",
   "pygments_lexer": "ipython3",
   "version": "3.9.12"
  },
  "orig_nbformat": 4,
  "vscode": {
   "interpreter": {
    "hash": "bd5a5980a31967086eaababc5338e6a92d5792ba40cc4c910227acd610a4f48f"
   }
  }
 },
 "nbformat": 4,
 "nbformat_minor": 2
}
