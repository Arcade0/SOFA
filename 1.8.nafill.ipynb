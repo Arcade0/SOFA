{
 "cells": [
  {
   "cell_type": "code",
   "execution_count": 1,
   "metadata": {},
   "outputs": [],
   "source": [
    "import pandas as pd\n",
    "import numpy as np"
   ]
  },
  {
   "cell_type": "code",
   "execution_count": 4,
   "metadata": {},
   "outputs": [],
   "source": [
    "sofa = pd.read_csv(\"sofa_data/sofa.csv\")\n"
   ]
  },
  {
   "cell_type": "code",
   "execution_count": 8,
   "metadata": {},
   "outputs": [],
   "source": [
    "patients_oc = pd.read_csv(\"pn_virus/patients_oc.csv\",index_col=0)"
   ]
  },
  {
   "cell_type": "code",
   "execution_count": 9,
   "metadata": {},
   "outputs": [],
   "source": [
    "patients_sofa = pd.merge(patients_oc, sofa)\n",
    "np.mean(patients_sofa[\"30day_death\"])\n",
    "from scipy.interpolate import interp1d\n",
    "for sd in set(patients_sofa[\"stay_id\"]):\n",
    "    apsofa = patients_sofa.loc[patients_sofa[\"stay_id\"] == sd]\n",
    "    for i in ['respiration','coagulation', 'liver', 'cardiovascular', 'cns', 'renal']:\n",
    "        apsofa = apsofa.bfill()\n",
    "        apsofa = apsofa.ffill()\n",
    "        patients_sofa.loc[apsofa.index, i] = apsofa[i]\n",
    "\n",
    "patients_sofa[\"sofa_24hours\"] = 0\n",
    "for j in ['respiration','coagulation', 'liver', 'cardiovascular', 'cns', 'renal']:\n",
    "    patients_sofa.loc[patients_sofa[j].isnull(), j] = 0\n",
    "    patients_sofa[j+\"_24hours\"] = patients_sofa[j]\n",
    "    patients_sofa[\"sofa_24hours\"] = patients_sofa[\"sofa_24hours\"] + patients_sofa[j+\"_24hours\"]\n",
    "patients_sofa.to_csv(\"pn_virus/patients_sofa.csv\")"
   ]
  },
  {
   "cell_type": "code",
   "execution_count": 11,
   "metadata": {},
   "outputs": [
    {
     "data": {
      "text/plain": [
       "Index(['subject_id', 'hadm_id', 'stay_id', 'deathtime', 'intime', 'death_day',\n",
       "       '30day_death', 'hr', 'starttime', 'endtime', 'pao2fio2ratio_novent',\n",
       "       'pao2fio2ratio_vent', 'rate_epinephrine', 'rate_norepinephrine',\n",
       "       'rate_dopamine', 'rate_dobutamine', 'meanbp_min', 'gcs_min', 'uo_24hr',\n",
       "       'bilirubin_max', 'creatinine_max', 'platelet_min', 'respiration',\n",
       "       'coagulation', 'liver', 'cardiovascular', 'cns', 'renal',\n",
       "       'respiration_24hours', 'coagulation_24hours', 'liver_24hours',\n",
       "       'cardiovascular_24hours', 'cns_24hours', 'renal_24hours',\n",
       "       'sofa_24hours'],\n",
       "      dtype='object')"
      ]
     },
     "execution_count": 11,
     "metadata": {},
     "output_type": "execute_result"
    }
   ],
   "source": [
    "patients_sofa.columns"
   ]
  }
 ],
 "metadata": {
  "kernelspec": {
   "display_name": "base",
   "language": "python",
   "name": "python3"
  },
  "language_info": {
   "codemirror_mode": {
    "name": "ipython",
    "version": 3
   },
   "file_extension": ".py",
   "mimetype": "text/x-python",
   "name": "python",
   "nbconvert_exporter": "python",
   "pygments_lexer": "ipython3",
   "version": "3.9.12"
  },
  "orig_nbformat": 4,
  "vscode": {
   "interpreter": {
    "hash": "bd5a5980a31967086eaababc5338e6a92d5792ba40cc4c910227acd610a4f48f"
   }
  }
 },
 "nbformat": 4,
 "nbformat_minor": 2
}
